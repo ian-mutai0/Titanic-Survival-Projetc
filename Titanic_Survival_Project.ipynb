{
  "nbformat": 4,
  "nbformat_minor": 0,
  "metadata": {
    "colab": {
      "name": "Titanic Survival Project.ipynb",
      "provenance": [],
      "collapsed_sections": [],
      "toc_visible": true,
      "authorship_tag": "ABX9TyO8qbFipt0gDA3VRgbUlY+J",
      "include_colab_link": true
    },
    "kernelspec": {
      "name": "python3",
      "display_name": "Python 3"
    },
    "language_info": {
      "name": "python"
    }
  },
  "cells": [
    {
      "cell_type": "markdown",
      "metadata": {
        "id": "view-in-github",
        "colab_type": "text"
      },
      "source": [
        "<a href=\"https://colab.research.google.com/github/ian-mutai0/Week9-Independent-Project/blob/main/Titanic_Survival_Project.ipynb\" target=\"_parent\"><img src=\"https://colab.research.google.com/assets/colab-badge.svg\" alt=\"Open In Colab\"/></a>"
      ]
    },
    {
      "cell_type": "markdown",
      "metadata": {
        "id": "nKmaLjOTBKwu"
      },
      "source": [
        "# TITANIC SURVIVAL DATASET"
      ]
    },
    {
      "cell_type": "markdown",
      "metadata": {
        "id": "PX-1VT4bBRs0"
      },
      "source": [
        "# 1.0 Defining the Question"
      ]
    },
    {
      "cell_type": "markdown",
      "metadata": {
        "id": "FjNaH79eBWF4"
      },
      "source": [
        "## a) Specifying the data analytic question"
      ]
    },
    {
      "cell_type": "markdown",
      "metadata": {
        "id": "70XNN86aBbWB"
      },
      "source": [
        "> We are required to predict whether a passenger survived or not in the Titanic dataset"
      ]
    },
    {
      "cell_type": "markdown",
      "metadata": {
        "id": "x9HZzVP0B20w"
      },
      "source": [
        "## b) Defining the metric for success"
      ]
    },
    {
      "cell_type": "markdown",
      "metadata": {
        "id": "NkNpaA-_B_nN"
      },
      "source": [
        "> To be able to create an algorithm that can help us classify the passengers in terms of survival in the Titanic dataset"
      ]
    },
    {
      "cell_type": "markdown",
      "metadata": {
        "id": "qU-4ZdxhCSir"
      },
      "source": [
        "## c) Understanding the context "
      ]
    },
    {
      "cell_type": "markdown",
      "metadata": {
        "id": "G1B2h3naCaid"
      },
      "source": [
        "> The RMS Titanic was known as the unsinkable ship and was the largest, most luxurious passenger ship of its time. Sadly, the Titanic sank on April 15, 1912, killing over 1500 people while just 705 survived. \n",
        " \n",
        "> The following are the dataset column descriptions:\n",
        " - pclass - Passenger Class (1 = 1st; 2 = 2nd; 3 = 3rd)\n",
        " - survived - Survival (0 = No, 1 = Yes)\n",
        " - name - Name of the passenger\n",
        " - sex - Gender/sex\n",
        " - age - Age of the passenger\n",
        " - sibsp - Number of siblings/spouses aboard\n",
        " - parch - Number of parents/children aboard\n",
        " - fare - Passenger fare\n",
        " - embarked - Port of embarkation (Cherboug, Queenstown, Southampton)"
      ]
    },
    {
      "cell_type": "markdown",
      "metadata": {
        "id": "V6o3jHwUCbkD"
      },
      "source": [
        "## d) Recording the Experimental Design"
      ]
    },
    {
      "cell_type": "markdown",
      "metadata": {
        "id": "2B7LKknUCiXj"
      },
      "source": [
        "> - Import the relevant libraries that we will use in our analysis\n",
        "- Read and explore the dataset we will use for our project\n",
        "- Define the appropriateness of the available data with regards to the project\n",
        "- Find and deal with outliers, anomalies, and missing data within the dataset.\n",
        "- Perform univariate and bivariate analysis while recording our observations.\n",
        "- Implement the solution by using the KNN classifier algorithm to predict whether a passenger survived in the Titanic crash\n",
        "- Challenge the solution by giving insights on how we can optimize the model to give us a better performance\n",
        "- Provide recommendations based on the performance of our models"
      ]
    },
    {
      "cell_type": "markdown",
      "metadata": {
        "id": "yIkPhIVEEqIP"
      },
      "source": [
        "## e) Data Relevance"
      ]
    },
    {
      "cell_type": "markdown",
      "metadata": {
        "id": "3Y3gwvKJ_3Kv"
      },
      "source": [
        "> Our data is relevant considering the fact that during the event, children and passengers on the first class were given higher priority when it came to giving out of life boats. We have both these columns in our dataset which thus help us in predicting whether a person survived or not in the Titanic crash."
      ]
    },
    {
      "cell_type": "markdown",
      "metadata": {
        "id": "fhz4Oz6MEt1u"
      },
      "source": [
        "# 2.0 Reading the Data"
      ]
    },
    {
      "cell_type": "code",
      "metadata": {
        "id": "mAEj3I8AAxo9"
      },
      "source": [
        "# Importing the libraries\n",
        "import pandas as pd\n",
        "import numpy as np\n",
        "import matplotlib.pyplot as plt\n",
        "import seaborn as sns"
      ],
      "execution_count": 364,
      "outputs": []
    },
    {
      "cell_type": "code",
      "metadata": {
        "id": "KT5kZ2NaFQC1"
      },
      "source": [
        "# Loading the Data from the respective sources i.e train.csv and test.csv\n",
        "titanic = pd.read_csv('train.csv')\n",
        "test = pd.read_csv('test.csv')"
      ],
      "execution_count": 365,
      "outputs": []
    },
    {
      "cell_type": "markdown",
      "metadata": {
        "id": "YExcpsPSGxcK"
      },
      "source": [
        "# 3.0 Checking the Data"
      ]
    },
    {
      "cell_type": "markdown",
      "metadata": {
        "id": "ddNTmXjUH7bE"
      },
      "source": [
        "> Train dataset"
      ]
    },
    {
      "cell_type": "code",
      "metadata": {
        "colab": {
          "base_uri": "https://localhost:8080/"
        },
        "id": "01kcGVM9G1dr",
        "outputId": "4419cfb9-9682-4537-a30e-c32a2a73bbae"
      },
      "source": [
        "# Displaying the number of columns and rows in our train dataset\n",
        "print('The shape of the train dataset is: ', titanic.shape)"
      ],
      "execution_count": 366,
      "outputs": [
        {
          "output_type": "stream",
          "text": [
            "The shape of the train dataset is:  (891, 12)\n"
          ],
          "name": "stdout"
        }
      ]
    },
    {
      "cell_type": "code",
      "metadata": {
        "colab": {
          "base_uri": "https://localhost:8080/",
          "height": 204
        },
        "id": "QNX5GdpNHUk9",
        "outputId": "e019753c-e028-4d16-c358-20e6cc7f79fe"
      },
      "source": [
        "# Displaying the top of the train dataset\n",
        "titanic.head()"
      ],
      "execution_count": 367,
      "outputs": [
        {
          "output_type": "execute_result",
          "data": {
            "text/html": [
              "<div>\n",
              "<style scoped>\n",
              "    .dataframe tbody tr th:only-of-type {\n",
              "        vertical-align: middle;\n",
              "    }\n",
              "\n",
              "    .dataframe tbody tr th {\n",
              "        vertical-align: top;\n",
              "    }\n",
              "\n",
              "    .dataframe thead th {\n",
              "        text-align: right;\n",
              "    }\n",
              "</style>\n",
              "<table border=\"1\" class=\"dataframe\">\n",
              "  <thead>\n",
              "    <tr style=\"text-align: right;\">\n",
              "      <th></th>\n",
              "      <th>PassengerId</th>\n",
              "      <th>Survived</th>\n",
              "      <th>Pclass</th>\n",
              "      <th>Name</th>\n",
              "      <th>Sex</th>\n",
              "      <th>Age</th>\n",
              "      <th>SibSp</th>\n",
              "      <th>Parch</th>\n",
              "      <th>Ticket</th>\n",
              "      <th>Fare</th>\n",
              "      <th>Cabin</th>\n",
              "      <th>Embarked</th>\n",
              "    </tr>\n",
              "  </thead>\n",
              "  <tbody>\n",
              "    <tr>\n",
              "      <th>0</th>\n",
              "      <td>1</td>\n",
              "      <td>0</td>\n",
              "      <td>3</td>\n",
              "      <td>Braund, Mr. Owen Harris</td>\n",
              "      <td>male</td>\n",
              "      <td>22.0</td>\n",
              "      <td>1</td>\n",
              "      <td>0</td>\n",
              "      <td>A/5 21171</td>\n",
              "      <td>7.2500</td>\n",
              "      <td>NaN</td>\n",
              "      <td>S</td>\n",
              "    </tr>\n",
              "    <tr>\n",
              "      <th>1</th>\n",
              "      <td>2</td>\n",
              "      <td>1</td>\n",
              "      <td>1</td>\n",
              "      <td>Cumings, Mrs. John Bradley (Florence Briggs Th...</td>\n",
              "      <td>female</td>\n",
              "      <td>38.0</td>\n",
              "      <td>1</td>\n",
              "      <td>0</td>\n",
              "      <td>PC 17599</td>\n",
              "      <td>71.2833</td>\n",
              "      <td>C85</td>\n",
              "      <td>C</td>\n",
              "    </tr>\n",
              "    <tr>\n",
              "      <th>2</th>\n",
              "      <td>3</td>\n",
              "      <td>1</td>\n",
              "      <td>3</td>\n",
              "      <td>Heikkinen, Miss. Laina</td>\n",
              "      <td>female</td>\n",
              "      <td>26.0</td>\n",
              "      <td>0</td>\n",
              "      <td>0</td>\n",
              "      <td>STON/O2. 3101282</td>\n",
              "      <td>7.9250</td>\n",
              "      <td>NaN</td>\n",
              "      <td>S</td>\n",
              "    </tr>\n",
              "    <tr>\n",
              "      <th>3</th>\n",
              "      <td>4</td>\n",
              "      <td>1</td>\n",
              "      <td>1</td>\n",
              "      <td>Futrelle, Mrs. Jacques Heath (Lily May Peel)</td>\n",
              "      <td>female</td>\n",
              "      <td>35.0</td>\n",
              "      <td>1</td>\n",
              "      <td>0</td>\n",
              "      <td>113803</td>\n",
              "      <td>53.1000</td>\n",
              "      <td>C123</td>\n",
              "      <td>S</td>\n",
              "    </tr>\n",
              "    <tr>\n",
              "      <th>4</th>\n",
              "      <td>5</td>\n",
              "      <td>0</td>\n",
              "      <td>3</td>\n",
              "      <td>Allen, Mr. William Henry</td>\n",
              "      <td>male</td>\n",
              "      <td>35.0</td>\n",
              "      <td>0</td>\n",
              "      <td>0</td>\n",
              "      <td>373450</td>\n",
              "      <td>8.0500</td>\n",
              "      <td>NaN</td>\n",
              "      <td>S</td>\n",
              "    </tr>\n",
              "  </tbody>\n",
              "</table>\n",
              "</div>"
            ],
            "text/plain": [
              "   PassengerId  Survived  Pclass  ...     Fare Cabin  Embarked\n",
              "0            1         0       3  ...   7.2500   NaN         S\n",
              "1            2         1       1  ...  71.2833   C85         C\n",
              "2            3         1       3  ...   7.9250   NaN         S\n",
              "3            4         1       1  ...  53.1000  C123         S\n",
              "4            5         0       3  ...   8.0500   NaN         S\n",
              "\n",
              "[5 rows x 12 columns]"
            ]
          },
          "metadata": {
            "tags": []
          },
          "execution_count": 367
        }
      ]
    },
    {
      "cell_type": "code",
      "metadata": {
        "colab": {
          "base_uri": "https://localhost:8080/",
          "height": 204
        },
        "id": "s1cQD0WrHf1t",
        "outputId": "2db2bb58-801b-4cdb-e521-c8c98070424b"
      },
      "source": [
        "# Displaying the bottom of the train dataset\n",
        "titanic.tail()"
      ],
      "execution_count": 368,
      "outputs": [
        {
          "output_type": "execute_result",
          "data": {
            "text/html": [
              "<div>\n",
              "<style scoped>\n",
              "    .dataframe tbody tr th:only-of-type {\n",
              "        vertical-align: middle;\n",
              "    }\n",
              "\n",
              "    .dataframe tbody tr th {\n",
              "        vertical-align: top;\n",
              "    }\n",
              "\n",
              "    .dataframe thead th {\n",
              "        text-align: right;\n",
              "    }\n",
              "</style>\n",
              "<table border=\"1\" class=\"dataframe\">\n",
              "  <thead>\n",
              "    <tr style=\"text-align: right;\">\n",
              "      <th></th>\n",
              "      <th>PassengerId</th>\n",
              "      <th>Survived</th>\n",
              "      <th>Pclass</th>\n",
              "      <th>Name</th>\n",
              "      <th>Sex</th>\n",
              "      <th>Age</th>\n",
              "      <th>SibSp</th>\n",
              "      <th>Parch</th>\n",
              "      <th>Ticket</th>\n",
              "      <th>Fare</th>\n",
              "      <th>Cabin</th>\n",
              "      <th>Embarked</th>\n",
              "    </tr>\n",
              "  </thead>\n",
              "  <tbody>\n",
              "    <tr>\n",
              "      <th>886</th>\n",
              "      <td>887</td>\n",
              "      <td>0</td>\n",
              "      <td>2</td>\n",
              "      <td>Montvila, Rev. Juozas</td>\n",
              "      <td>male</td>\n",
              "      <td>27.0</td>\n",
              "      <td>0</td>\n",
              "      <td>0</td>\n",
              "      <td>211536</td>\n",
              "      <td>13.00</td>\n",
              "      <td>NaN</td>\n",
              "      <td>S</td>\n",
              "    </tr>\n",
              "    <tr>\n",
              "      <th>887</th>\n",
              "      <td>888</td>\n",
              "      <td>1</td>\n",
              "      <td>1</td>\n",
              "      <td>Graham, Miss. Margaret Edith</td>\n",
              "      <td>female</td>\n",
              "      <td>19.0</td>\n",
              "      <td>0</td>\n",
              "      <td>0</td>\n",
              "      <td>112053</td>\n",
              "      <td>30.00</td>\n",
              "      <td>B42</td>\n",
              "      <td>S</td>\n",
              "    </tr>\n",
              "    <tr>\n",
              "      <th>888</th>\n",
              "      <td>889</td>\n",
              "      <td>0</td>\n",
              "      <td>3</td>\n",
              "      <td>Johnston, Miss. Catherine Helen \"Carrie\"</td>\n",
              "      <td>female</td>\n",
              "      <td>NaN</td>\n",
              "      <td>1</td>\n",
              "      <td>2</td>\n",
              "      <td>W./C. 6607</td>\n",
              "      <td>23.45</td>\n",
              "      <td>NaN</td>\n",
              "      <td>S</td>\n",
              "    </tr>\n",
              "    <tr>\n",
              "      <th>889</th>\n",
              "      <td>890</td>\n",
              "      <td>1</td>\n",
              "      <td>1</td>\n",
              "      <td>Behr, Mr. Karl Howell</td>\n",
              "      <td>male</td>\n",
              "      <td>26.0</td>\n",
              "      <td>0</td>\n",
              "      <td>0</td>\n",
              "      <td>111369</td>\n",
              "      <td>30.00</td>\n",
              "      <td>C148</td>\n",
              "      <td>C</td>\n",
              "    </tr>\n",
              "    <tr>\n",
              "      <th>890</th>\n",
              "      <td>891</td>\n",
              "      <td>0</td>\n",
              "      <td>3</td>\n",
              "      <td>Dooley, Mr. Patrick</td>\n",
              "      <td>male</td>\n",
              "      <td>32.0</td>\n",
              "      <td>0</td>\n",
              "      <td>0</td>\n",
              "      <td>370376</td>\n",
              "      <td>7.75</td>\n",
              "      <td>NaN</td>\n",
              "      <td>Q</td>\n",
              "    </tr>\n",
              "  </tbody>\n",
              "</table>\n",
              "</div>"
            ],
            "text/plain": [
              "     PassengerId  Survived  Pclass  ...   Fare Cabin  Embarked\n",
              "886          887         0       2  ...  13.00   NaN         S\n",
              "887          888         1       1  ...  30.00   B42         S\n",
              "888          889         0       3  ...  23.45   NaN         S\n",
              "889          890         1       1  ...  30.00  C148         C\n",
              "890          891         0       3  ...   7.75   NaN         Q\n",
              "\n",
              "[5 rows x 12 columns]"
            ]
          },
          "metadata": {
            "tags": []
          },
          "execution_count": 368
        }
      ]
    },
    {
      "cell_type": "code",
      "metadata": {
        "colab": {
          "base_uri": "https://localhost:8080/"
        },
        "id": "-UIQDdx8HkXk",
        "outputId": "35b0d9fd-1364-4704-988c-565847be82e3"
      },
      "source": [
        "# Checking the datatypes of our columns and confirming whether they are appropriate\n",
        "titanic.dtypes"
      ],
      "execution_count": 369,
      "outputs": [
        {
          "output_type": "execute_result",
          "data": {
            "text/plain": [
              "PassengerId      int64\n",
              "Survived         int64\n",
              "Pclass           int64\n",
              "Name            object\n",
              "Sex             object\n",
              "Age            float64\n",
              "SibSp            int64\n",
              "Parch            int64\n",
              "Ticket          object\n",
              "Fare           float64\n",
              "Cabin           object\n",
              "Embarked        object\n",
              "dtype: object"
            ]
          },
          "metadata": {
            "tags": []
          },
          "execution_count": 369
        }
      ]
    },
    {
      "cell_type": "code",
      "metadata": {
        "colab": {
          "base_uri": "https://localhost:8080/"
        },
        "id": "9rYa6P937r3K",
        "outputId": "84f35e66-6fe1-44a5-cfc6-3852767bebde"
      },
      "source": [
        "# Checking the number of unique classes in each column\n",
        "# This helps in categorizing whether a column is categorical, numerical or is an object\n",
        "titanic.nunique()"
      ],
      "execution_count": 370,
      "outputs": [
        {
          "output_type": "execute_result",
          "data": {
            "text/plain": [
              "PassengerId    891\n",
              "Survived         2\n",
              "Pclass           3\n",
              "Name           891\n",
              "Sex              2\n",
              "Age             88\n",
              "SibSp            7\n",
              "Parch            7\n",
              "Ticket         681\n",
              "Fare           248\n",
              "Cabin          147\n",
              "Embarked         3\n",
              "dtype: int64"
            ]
          },
          "metadata": {
            "tags": []
          },
          "execution_count": 370
        }
      ]
    },
    {
      "cell_type": "code",
      "metadata": {
        "id": "8llP88xF4t67"
      },
      "source": [
        "# Seeing that some datatypes are objects, we can go ahead and change them to categories\n",
        "numerical_variables = ['PassengerId','Age','SibSp','Parch','Fare']\n",
        "objects = ['Name','Ticket','Cabin']\n",
        "categorical_variables = ['Survived','Pclass','Sex','Embarked']\n",
        "\n",
        "for i in titanic.columns:\n",
        "  if i in numerical_variables:\n",
        "    titanic[i] = pd.to_numeric(titanic[i])\n",
        "  elif i in categorical_variables:\n",
        "    titanic[i] = titanic[i].astype('category')\n",
        "  else:\n",
        "    titanic[i] = titanic[i].astype('object')"
      ],
      "execution_count": 371,
      "outputs": []
    },
    {
      "cell_type": "code",
      "metadata": {
        "colab": {
          "base_uri": "https://localhost:8080/"
        },
        "id": "IwaR454G-nvJ",
        "outputId": "8eeed326-5f9e-4879-e963-22dbe4682424"
      },
      "source": [
        "# Checking for the datatypes again\n",
        "titanic.dtypes"
      ],
      "execution_count": 372,
      "outputs": [
        {
          "output_type": "execute_result",
          "data": {
            "text/plain": [
              "PassengerId       int64\n",
              "Survived       category\n",
              "Pclass         category\n",
              "Name             object\n",
              "Sex            category\n",
              "Age             float64\n",
              "SibSp             int64\n",
              "Parch             int64\n",
              "Ticket           object\n",
              "Fare            float64\n",
              "Cabin            object\n",
              "Embarked       category\n",
              "dtype: object"
            ]
          },
          "metadata": {
            "tags": []
          },
          "execution_count": 372
        }
      ]
    },
    {
      "cell_type": "markdown",
      "metadata": {
        "id": "Bb6Bi4iVI9yl"
      },
      "source": [
        "> Test dataset"
      ]
    },
    {
      "cell_type": "code",
      "metadata": {
        "colab": {
          "base_uri": "https://localhost:8080/"
        },
        "id": "MEZna2gnIXrb",
        "outputId": "e5fd0221-ccbf-483d-be7b-16756ee64b4d"
      },
      "source": [
        "# Displaying the number of records in our test dataset\n",
        "print('The shape of the test dataset is: ', test.shape)"
      ],
      "execution_count": 373,
      "outputs": [
        {
          "output_type": "stream",
          "text": [
            "The shape of the test dataset is:  (418, 11)\n"
          ],
          "name": "stdout"
        }
      ]
    },
    {
      "cell_type": "code",
      "metadata": {
        "colab": {
          "base_uri": "https://localhost:8080/",
          "height": 204
        },
        "id": "-QMfzOlrI_mP",
        "outputId": "c3fde919-8fa6-4e92-ee4f-d781e70b3d4c"
      },
      "source": [
        "# Displaying the top of the test dataset\n",
        "test.head()"
      ],
      "execution_count": 374,
      "outputs": [
        {
          "output_type": "execute_result",
          "data": {
            "text/html": [
              "<div>\n",
              "<style scoped>\n",
              "    .dataframe tbody tr th:only-of-type {\n",
              "        vertical-align: middle;\n",
              "    }\n",
              "\n",
              "    .dataframe tbody tr th {\n",
              "        vertical-align: top;\n",
              "    }\n",
              "\n",
              "    .dataframe thead th {\n",
              "        text-align: right;\n",
              "    }\n",
              "</style>\n",
              "<table border=\"1\" class=\"dataframe\">\n",
              "  <thead>\n",
              "    <tr style=\"text-align: right;\">\n",
              "      <th></th>\n",
              "      <th>PassengerId</th>\n",
              "      <th>Pclass</th>\n",
              "      <th>Name</th>\n",
              "      <th>Sex</th>\n",
              "      <th>Age</th>\n",
              "      <th>SibSp</th>\n",
              "      <th>Parch</th>\n",
              "      <th>Ticket</th>\n",
              "      <th>Fare</th>\n",
              "      <th>Cabin</th>\n",
              "      <th>Embarked</th>\n",
              "    </tr>\n",
              "  </thead>\n",
              "  <tbody>\n",
              "    <tr>\n",
              "      <th>0</th>\n",
              "      <td>892</td>\n",
              "      <td>3</td>\n",
              "      <td>Kelly, Mr. James</td>\n",
              "      <td>male</td>\n",
              "      <td>34.5</td>\n",
              "      <td>0</td>\n",
              "      <td>0</td>\n",
              "      <td>330911</td>\n",
              "      <td>7.8292</td>\n",
              "      <td>NaN</td>\n",
              "      <td>Q</td>\n",
              "    </tr>\n",
              "    <tr>\n",
              "      <th>1</th>\n",
              "      <td>893</td>\n",
              "      <td>3</td>\n",
              "      <td>Wilkes, Mrs. James (Ellen Needs)</td>\n",
              "      <td>female</td>\n",
              "      <td>47.0</td>\n",
              "      <td>1</td>\n",
              "      <td>0</td>\n",
              "      <td>363272</td>\n",
              "      <td>7.0000</td>\n",
              "      <td>NaN</td>\n",
              "      <td>S</td>\n",
              "    </tr>\n",
              "    <tr>\n",
              "      <th>2</th>\n",
              "      <td>894</td>\n",
              "      <td>2</td>\n",
              "      <td>Myles, Mr. Thomas Francis</td>\n",
              "      <td>male</td>\n",
              "      <td>62.0</td>\n",
              "      <td>0</td>\n",
              "      <td>0</td>\n",
              "      <td>240276</td>\n",
              "      <td>9.6875</td>\n",
              "      <td>NaN</td>\n",
              "      <td>Q</td>\n",
              "    </tr>\n",
              "    <tr>\n",
              "      <th>3</th>\n",
              "      <td>895</td>\n",
              "      <td>3</td>\n",
              "      <td>Wirz, Mr. Albert</td>\n",
              "      <td>male</td>\n",
              "      <td>27.0</td>\n",
              "      <td>0</td>\n",
              "      <td>0</td>\n",
              "      <td>315154</td>\n",
              "      <td>8.6625</td>\n",
              "      <td>NaN</td>\n",
              "      <td>S</td>\n",
              "    </tr>\n",
              "    <tr>\n",
              "      <th>4</th>\n",
              "      <td>896</td>\n",
              "      <td>3</td>\n",
              "      <td>Hirvonen, Mrs. Alexander (Helga E Lindqvist)</td>\n",
              "      <td>female</td>\n",
              "      <td>22.0</td>\n",
              "      <td>1</td>\n",
              "      <td>1</td>\n",
              "      <td>3101298</td>\n",
              "      <td>12.2875</td>\n",
              "      <td>NaN</td>\n",
              "      <td>S</td>\n",
              "    </tr>\n",
              "  </tbody>\n",
              "</table>\n",
              "</div>"
            ],
            "text/plain": [
              "   PassengerId  Pclass  ... Cabin Embarked\n",
              "0          892       3  ...   NaN        Q\n",
              "1          893       3  ...   NaN        S\n",
              "2          894       2  ...   NaN        Q\n",
              "3          895       3  ...   NaN        S\n",
              "4          896       3  ...   NaN        S\n",
              "\n",
              "[5 rows x 11 columns]"
            ]
          },
          "metadata": {
            "tags": []
          },
          "execution_count": 374
        }
      ]
    },
    {
      "cell_type": "code",
      "metadata": {
        "colab": {
          "base_uri": "https://localhost:8080/",
          "height": 204
        },
        "id": "m_3bjNs1JFQy",
        "outputId": "b181bd73-d25f-4a84-bcdf-09c722ffb267"
      },
      "source": [
        "# Displaying the bottom of the dataset\n",
        "test.tail()"
      ],
      "execution_count": 375,
      "outputs": [
        {
          "output_type": "execute_result",
          "data": {
            "text/html": [
              "<div>\n",
              "<style scoped>\n",
              "    .dataframe tbody tr th:only-of-type {\n",
              "        vertical-align: middle;\n",
              "    }\n",
              "\n",
              "    .dataframe tbody tr th {\n",
              "        vertical-align: top;\n",
              "    }\n",
              "\n",
              "    .dataframe thead th {\n",
              "        text-align: right;\n",
              "    }\n",
              "</style>\n",
              "<table border=\"1\" class=\"dataframe\">\n",
              "  <thead>\n",
              "    <tr style=\"text-align: right;\">\n",
              "      <th></th>\n",
              "      <th>PassengerId</th>\n",
              "      <th>Pclass</th>\n",
              "      <th>Name</th>\n",
              "      <th>Sex</th>\n",
              "      <th>Age</th>\n",
              "      <th>SibSp</th>\n",
              "      <th>Parch</th>\n",
              "      <th>Ticket</th>\n",
              "      <th>Fare</th>\n",
              "      <th>Cabin</th>\n",
              "      <th>Embarked</th>\n",
              "    </tr>\n",
              "  </thead>\n",
              "  <tbody>\n",
              "    <tr>\n",
              "      <th>413</th>\n",
              "      <td>1305</td>\n",
              "      <td>3</td>\n",
              "      <td>Spector, Mr. Woolf</td>\n",
              "      <td>male</td>\n",
              "      <td>NaN</td>\n",
              "      <td>0</td>\n",
              "      <td>0</td>\n",
              "      <td>A.5. 3236</td>\n",
              "      <td>8.0500</td>\n",
              "      <td>NaN</td>\n",
              "      <td>S</td>\n",
              "    </tr>\n",
              "    <tr>\n",
              "      <th>414</th>\n",
              "      <td>1306</td>\n",
              "      <td>1</td>\n",
              "      <td>Oliva y Ocana, Dona. Fermina</td>\n",
              "      <td>female</td>\n",
              "      <td>39.0</td>\n",
              "      <td>0</td>\n",
              "      <td>0</td>\n",
              "      <td>PC 17758</td>\n",
              "      <td>108.9000</td>\n",
              "      <td>C105</td>\n",
              "      <td>C</td>\n",
              "    </tr>\n",
              "    <tr>\n",
              "      <th>415</th>\n",
              "      <td>1307</td>\n",
              "      <td>3</td>\n",
              "      <td>Saether, Mr. Simon Sivertsen</td>\n",
              "      <td>male</td>\n",
              "      <td>38.5</td>\n",
              "      <td>0</td>\n",
              "      <td>0</td>\n",
              "      <td>SOTON/O.Q. 3101262</td>\n",
              "      <td>7.2500</td>\n",
              "      <td>NaN</td>\n",
              "      <td>S</td>\n",
              "    </tr>\n",
              "    <tr>\n",
              "      <th>416</th>\n",
              "      <td>1308</td>\n",
              "      <td>3</td>\n",
              "      <td>Ware, Mr. Frederick</td>\n",
              "      <td>male</td>\n",
              "      <td>NaN</td>\n",
              "      <td>0</td>\n",
              "      <td>0</td>\n",
              "      <td>359309</td>\n",
              "      <td>8.0500</td>\n",
              "      <td>NaN</td>\n",
              "      <td>S</td>\n",
              "    </tr>\n",
              "    <tr>\n",
              "      <th>417</th>\n",
              "      <td>1309</td>\n",
              "      <td>3</td>\n",
              "      <td>Peter, Master. Michael J</td>\n",
              "      <td>male</td>\n",
              "      <td>NaN</td>\n",
              "      <td>1</td>\n",
              "      <td>1</td>\n",
              "      <td>2668</td>\n",
              "      <td>22.3583</td>\n",
              "      <td>NaN</td>\n",
              "      <td>C</td>\n",
              "    </tr>\n",
              "  </tbody>\n",
              "</table>\n",
              "</div>"
            ],
            "text/plain": [
              "     PassengerId  Pclass                          Name  ...      Fare  Cabin  Embarked\n",
              "413         1305       3            Spector, Mr. Woolf  ...    8.0500    NaN         S\n",
              "414         1306       1  Oliva y Ocana, Dona. Fermina  ...  108.9000   C105         C\n",
              "415         1307       3  Saether, Mr. Simon Sivertsen  ...    7.2500    NaN         S\n",
              "416         1308       3           Ware, Mr. Frederick  ...    8.0500    NaN         S\n",
              "417         1309       3      Peter, Master. Michael J  ...   22.3583    NaN         C\n",
              "\n",
              "[5 rows x 11 columns]"
            ]
          },
          "metadata": {
            "tags": []
          },
          "execution_count": 375
        }
      ]
    },
    {
      "cell_type": "code",
      "metadata": {
        "colab": {
          "base_uri": "https://localhost:8080/"
        },
        "id": "XiiKmqddJK6E",
        "outputId": "c65a7f7b-8e65-424d-8191-8aa4224d8698"
      },
      "source": [
        "# Checking whether the datatypes of our dataset are appropriate\n",
        "test.dtypes"
      ],
      "execution_count": 376,
      "outputs": [
        {
          "output_type": "execute_result",
          "data": {
            "text/plain": [
              "PassengerId      int64\n",
              "Pclass           int64\n",
              "Name            object\n",
              "Sex             object\n",
              "Age            float64\n",
              "SibSp            int64\n",
              "Parch            int64\n",
              "Ticket          object\n",
              "Fare           float64\n",
              "Cabin           object\n",
              "Embarked        object\n",
              "dtype: object"
            ]
          },
          "metadata": {
            "tags": []
          },
          "execution_count": 376
        }
      ]
    },
    {
      "cell_type": "code",
      "metadata": {
        "colab": {
          "base_uri": "https://localhost:8080/"
        },
        "id": "2IkjjvnC9_9x",
        "outputId": "9563c245-7472-4e46-f141-6f1f4ae624cd"
      },
      "source": [
        "# Checking the number of unique classes in each column\n",
        "# to categorize them into either categorical, numerical or objects\n",
        "test.nunique()"
      ],
      "execution_count": 377,
      "outputs": [
        {
          "output_type": "execute_result",
          "data": {
            "text/plain": [
              "PassengerId    418\n",
              "Pclass           3\n",
              "Name           418\n",
              "Sex              2\n",
              "Age             79\n",
              "SibSp            7\n",
              "Parch            8\n",
              "Ticket         363\n",
              "Fare           169\n",
              "Cabin           76\n",
              "Embarked         3\n",
              "dtype: int64"
            ]
          },
          "metadata": {
            "tags": []
          },
          "execution_count": 377
        }
      ]
    },
    {
      "cell_type": "code",
      "metadata": {
        "id": "Br1v_0eF-R34"
      },
      "source": [
        "# Seeing that some datatypes are objects, we can go ahead and change them to categories\n",
        "numerical_variables = ['PassengerId','Age','SibSp','Parch','Fare']\n",
        "objects = ['Name','Ticket','Cabin']\n",
        "categorical_variables = ['Survived','Pclass','Sex','Embarked']\n",
        "\n",
        "for y in test.columns:\n",
        "  if y in numerical_variables:\n",
        "    test[y] = pd.to_numeric(test[y])\n",
        "  elif y in categorical_variables:\n",
        "    test[y] = test[y].astype('category')"
      ],
      "execution_count": 378,
      "outputs": []
    },
    {
      "cell_type": "code",
      "metadata": {
        "colab": {
          "base_uri": "https://localhost:8080/"
        },
        "id": "o9_ivp30_EfI",
        "outputId": "78735bc7-37f6-4132-e862-7aaae5057742"
      },
      "source": [
        "# Checking for the datatypes again\n",
        "test.dtypes"
      ],
      "execution_count": 379,
      "outputs": [
        {
          "output_type": "execute_result",
          "data": {
            "text/plain": [
              "PassengerId       int64\n",
              "Pclass         category\n",
              "Name             object\n",
              "Sex            category\n",
              "Age             float64\n",
              "SibSp             int64\n",
              "Parch             int64\n",
              "Ticket           object\n",
              "Fare            float64\n",
              "Cabin            object\n",
              "Embarked       category\n",
              "dtype: object"
            ]
          },
          "metadata": {
            "tags": []
          },
          "execution_count": 379
        }
      ]
    },
    {
      "cell_type": "markdown",
      "metadata": {
        "id": "xY6OE2dsJXVC"
      },
      "source": [
        "> We realize that the test dataset does not have the 'survived' column and so when it comes to analysis and modelling, we will end up using the train dataset to create the train and test sets since it has the 'survived' label. "
      ]
    },
    {
      "cell_type": "markdown",
      "metadata": {
        "id": "vkTQESLyKTsC"
      },
      "source": [
        "# 4.0 External Data source Validation"
      ]
    },
    {
      "cell_type": "markdown",
      "metadata": {
        "id": "Tjnw_YGyKZng"
      },
      "source": [
        "Making sure your data matches something outside of the dataset is very important. It allows you to ensure that the measurements are roughly in line with what they should be and it serves as a check on what other things might be wrong in your dataset. External validation can often be as simple as checking your data against a single number, as we will do here.\n",
        "\n",
        "An example would be suppose that you're working with a dataset on the population of countries during the year 2016. Validating such information with an external reliable resource such as World Bank Data would be important step to providing credibility to your dataset. Have a look at the following link for an example. Link."
      ]
    },
    {
      "cell_type": "markdown",
      "metadata": {
        "id": "biiiWB79Km-S"
      },
      "source": [
        "### a. Validation"
      ]
    },
    {
      "cell_type": "markdown",
      "metadata": {
        "id": "_LSYIYJAOaT9"
      },
      "source": [
        "# 5.0 Data Cleaning"
      ]
    },
    {
      "cell_type": "markdown",
      "metadata": {
        "id": "N6RGMZDZOoDS"
      },
      "source": [
        "## a) Validity"
      ]
    },
    {
      "cell_type": "code",
      "metadata": {
        "id": "sE8B6MA9L3Mz"
      },
      "source": [
        "# Dropping any unnecessary columns from the titanic dataset\n",
        "titanic.drop(['PassengerId','Ticket'], axis = 1, inplace=True)\n",
        "\n",
        "# Dropping any unnecessary columns from the test set\n",
        "test.drop(['PassengerId','Ticket'], axis = 1, inplace = True)"
      ],
      "execution_count": 380,
      "outputs": []
    },
    {
      "cell_type": "markdown",
      "metadata": {
        "id": "PoMj5693MB3O"
      },
      "source": [
        "> These two columns are to be dropped because they are distinct for every passenger and thus we can't use them in any analysis we will conduct."
      ]
    },
    {
      "cell_type": "markdown",
      "metadata": {
        "id": "dSTIKI5yPScK"
      },
      "source": [
        "## b) Accuracy"
      ]
    },
    {
      "cell_type": "markdown",
      "metadata": {
        "id": "1v71eXxTPdPV"
      },
      "source": [
        "> ## c) Completeness"
      ]
    },
    {
      "cell_type": "code",
      "metadata": {
        "colab": {
          "base_uri": "https://localhost:8080/"
        },
        "id": "7zoLOsppPgN_",
        "outputId": "adfdc06b-71cf-4b4f-8683-a669675753a2"
      },
      "source": [
        "# Checking for missing values in our titanic dataset\n",
        "print(titanic.isnull().sum())\n",
        "print('\\n')\n",
        "# Checking for missing values in our test set\n",
        "print(\"The null values in our test set\")\n",
        "print(test.isnull().sum())"
      ],
      "execution_count": 381,
      "outputs": [
        {
          "output_type": "stream",
          "text": [
            "Survived      0\n",
            "Pclass        0\n",
            "Name          0\n",
            "Sex           0\n",
            "Age         177\n",
            "SibSp         0\n",
            "Parch         0\n",
            "Fare          0\n",
            "Cabin       687\n",
            "Embarked      2\n",
            "dtype: int64\n",
            "\n",
            "\n",
            "The null values in our test set\n",
            "Pclass        0\n",
            "Name          0\n",
            "Sex           0\n",
            "Age          86\n",
            "SibSp         0\n",
            "Parch         0\n",
            "Fare          1\n",
            "Cabin       327\n",
            "Embarked      0\n",
            "dtype: int64\n"
          ],
          "name": "stdout"
        }
      ]
    },
    {
      "cell_type": "markdown",
      "metadata": {
        "id": "nsqbmufWK5dI"
      },
      "source": [
        "Seeing as we have missing values in the age, cabin and embarked columns, we go ahead to deal with them. \n",
        "- Missing values in the age column can be filled using the mean so as to maintain the age distribution in our datasets. \n",
        "- Missing values in our cabin column are quite many so we can classify the cabins in terms of known or unknown so as to avoid distorting the relevance of the cabin column.\n",
        "- We have 2 missing values in the Embarked column in our titanic dataset which we can fill using the mode.\n",
        "\n"
      ]
    },
    {
      "cell_type": "markdown",
      "metadata": {
        "id": "SPqoxnArO2sK"
      },
      "source": [
        "> Dealing with the missing values in the Age column"
      ]
    },
    {
      "cell_type": "code",
      "metadata": {
        "id": "6pj7EB19Tcmp"
      },
      "source": [
        "# We will use the mean of age in both datasets\n",
        "# Titanic\n",
        "mean1 = titanic['Age'].mean()\n",
        "titanic['Age'].fillna(mean1, inplace=True)\n",
        "\n",
        "# Test\n",
        "mean2 = test['Age'].mean()\n",
        "test['Age'].fillna(mean2, inplace=True)"
      ],
      "execution_count": 382,
      "outputs": []
    },
    {
      "cell_type": "markdown",
      "metadata": {
        "id": "BiRKGIAvUsAT"
      },
      "source": [
        "> Dealing with the missing values in the Cabin column"
      ]
    },
    {
      "cell_type": "code",
      "metadata": {
        "id": "SkGb5w5tU3T5"
      },
      "source": [
        "# We can introduce a new column, Cabin_Known in both datasets\n",
        "# Titanic\n",
        "titanic['Cabin_Known'] = [0 if str(x) == 'nan' else 1 for x in titanic['Cabin']]\n",
        "\n",
        "# We then drop the former Cabin column \n",
        "titanic.drop('Cabin', axis=1, inplace=True)\n",
        "\n",
        "# Test set\n",
        "test['Cabin_Known'] = [0 if str(x) == 'nan' else 1 for x in test['Cabin']]\n",
        "\n",
        "# We then drop the former Cabin column \n",
        "test.drop('Cabin', axis=1, inplace=True)"
      ],
      "execution_count": 383,
      "outputs": []
    },
    {
      "cell_type": "markdown",
      "metadata": {
        "id": "jpXAu1V3V0vd"
      },
      "source": [
        "> Dealing with the missing values in the Embarked column in our Titanic dataset"
      ]
    },
    {
      "cell_type": "code",
      "metadata": {
        "id": "s_T5pbN8V6YE"
      },
      "source": [
        "# We use the mode\n",
        "mode1 = titanic['Embarked'].mode()\n",
        "titanic['Embarked'].fillna(mode1, inplace=True)"
      ],
      "execution_count": 384,
      "outputs": []
    },
    {
      "cell_type": "markdown",
      "metadata": {
        "id": "vvezyjCWWZ_S"
      },
      "source": [
        "## d) Consistency"
      ]
    },
    {
      "cell_type": "code",
      "metadata": {
        "colab": {
          "base_uri": "https://localhost:8080/"
        },
        "id": "oiMzNXTiWdQ7",
        "outputId": "271985c6-d804-443f-aa83-75cb6b68b01c"
      },
      "source": [
        "# Checking for duplicate values in our datasets\n",
        "# Titanic\n",
        "print(titanic.duplicated().sum())\n",
        "\n",
        "# Test set\n",
        "print(test.duplicated().sum())"
      ],
      "execution_count": 385,
      "outputs": [
        {
          "output_type": "stream",
          "text": [
            "0\n",
            "0\n"
          ],
          "name": "stdout"
        }
      ]
    },
    {
      "cell_type": "markdown",
      "metadata": {
        "id": "3uCOzy44Ws9d"
      },
      "source": [
        "> There are no duplicate values in both our titanic and test datasets"
      ]
    },
    {
      "cell_type": "markdown",
      "metadata": {
        "id": "SYlX32soW95o"
      },
      "source": [
        "## e) Uniformity"
      ]
    },
    {
      "cell_type": "code",
      "metadata": {
        "id": "J33pj-saXAd3"
      },
      "source": [
        "# Changing column names to upper case and placing underscore to make the column names uniform in the titanic dataset\n",
        "titanic.columns = titanic.columns.str.strip().str.lower().str.replace(' ', '_').str.replace('(', '').str.replace(')', '')\n",
        "\n",
        "# Test dataset\n",
        "# Changing column names to upper case and placing underscore to make the column names uniform in the titanic dataset\n",
        "test.columns = test.columns.str.strip().str.lower().str.replace(' ', '_').str.replace('(', '').str.replace(')', '')"
      ],
      "execution_count": 386,
      "outputs": []
    },
    {
      "cell_type": "markdown",
      "metadata": {
        "id": "OHy2j7NdE-M4"
      },
      "source": [
        "> All the column headings have been changed to lowercase for easier interpretation"
      ]
    },
    {
      "cell_type": "markdown",
      "metadata": {
        "id": "OuH4gKiEjw_B"
      },
      "source": [
        "## f) Checking for Outliers"
      ]
    },
    {
      "cell_type": "code",
      "metadata": {
        "colab": {
          "base_uri": "https://localhost:8080/"
        },
        "id": "xfSt86bNj1Vk",
        "outputId": "d51e8f3b-e70a-4192-9ee1-b6d41da84ccd"
      },
      "source": [
        "# Checking for the outliers using quantiles\n",
        "# We check fo the outliers within the numerical variables\n",
        "numerical = ['age','sibsp','parch','fare']\n",
        "Q1 = titanic[numerical].quantile(0.25)\n",
        "Q3 = titanic[numerical].quantile(0.75)\n",
        "IQR = Q3 - Q1\n",
        "# Dealing with the outliers by removing outliers based on the IQR range \n",
        "new_titanic = titanic[numerical][~((titanic[numerical] < (Q1 - 1.5 * IQR)) | (titanic[numerical] > (Q3 + 1.5 * IQR))).any(axis=1)]\n",
        "\n",
        "# Printing the shape of our new dataset\n",
        "print(new_titanic.shape)\n",
        "\n",
        "# Printing the shape of our old dataset\n",
        "print(titanic.shape)\n"
      ],
      "execution_count": 387,
      "outputs": [
        {
          "output_type": "stream",
          "text": [
            "(577, 4)\n",
            "(891, 10)\n"
          ],
          "name": "stdout"
        }
      ]
    },
    {
      "cell_type": "markdown",
      "metadata": {
        "id": "3t3QZd2GGOzC"
      },
      "source": [
        "> Dealing with outliers in this case would mean us not dropping them because after dropping, we realized that it would heavily impact our titanic dataset since more than 300 records and 6 columns would be dropped from our original dataset thus distorting our data. "
      ]
    },
    {
      "cell_type": "markdown",
      "metadata": {
        "id": "RqZqqc5DbSBF"
      },
      "source": [
        "# 6.0 Exploratory Data Analysis"
      ]
    },
    {
      "cell_type": "markdown",
      "metadata": {
        "id": "atWgn8raVl-1"
      },
      "source": [
        "## 6.1 Univariate Data Analysis"
      ]
    },
    {
      "cell_type": "markdown",
      "metadata": {
        "id": "pAR3pXzrVqtl"
      },
      "source": [
        "### 6.1.1 Categorical Variables"
      ]
    },
    {
      "cell_type": "markdown",
      "metadata": {
        "id": "P6bnzBelVvkb"
      },
      "source": [
        "#### i) Frequency Tables"
      ]
    },
    {
      "cell_type": "code",
      "metadata": {
        "id": "Na0suaZQajb3",
        "colab": {
          "base_uri": "https://localhost:8080/"
        },
        "outputId": "4be82fc0-3922-4af6-9818-84c49962835c"
      },
      "source": [
        "# Frequency Tables\n",
        "print(titanic['embarked'].value_counts())\n",
        "print('\\n')\n",
        "print(titanic['pclass'].value_counts())\n",
        "print('\\n')\n",
        "print(titanic['survived'].value_counts())\n",
        "print('\\n')\n",
        "print(titanic['sex'].value_counts())"
      ],
      "execution_count": 388,
      "outputs": [
        {
          "output_type": "stream",
          "text": [
            "S    644\n",
            "C    168\n",
            "Q     77\n",
            "Name: embarked, dtype: int64\n",
            "\n",
            "\n",
            "3    491\n",
            "1    216\n",
            "2    184\n",
            "Name: pclass, dtype: int64\n",
            "\n",
            "\n",
            "0    549\n",
            "1    342\n",
            "Name: survived, dtype: int64\n",
            "\n",
            "\n",
            "male      577\n",
            "female    314\n",
            "Name: sex, dtype: int64\n"
          ],
          "name": "stdout"
        }
      ]
    },
    {
      "cell_type": "markdown",
      "metadata": {
        "id": "jmscIv515L0o"
      },
      "source": [
        "> From the frequency tables, we can conclude the following observations: \n",
        "- Majority of the passengers in our passengers in our Titanic dataset, exactly 549, survived the crash while 342 passengers did not survive. \n",
        "- Majority of the passengers in our Titanic dataset were male, exactly 577 as compared to the 314 female passengers.\n",
        "- Majority of the passengers embarked at the Southampton port, exactly 644 out of the total 891 passengers.\n",
        "- Majority of the passengers were in the third passenger class, exactly 491 out of the total 891 passengers"
      ]
    },
    {
      "cell_type": "markdown",
      "metadata": {
        "id": "RtVXhy_65M2H"
      },
      "source": [
        "#### ii) Pie charts"
      ]
    },
    {
      "cell_type": "code",
      "metadata": {
        "colab": {
          "base_uri": "https://localhost:8080/",
          "height": 373
        },
        "id": "h4Q7CI165Zcp",
        "outputId": "47a2d19a-e7c2-4f21-df28-27bcdb370f23"
      },
      "source": [
        "# Pie chart of the survival rate in our Titanic dataset\n",
        "titanic['survived'].value_counts().plot(kind='pie', autopct='%1.1f%%', colors=['brown','green'])\n",
        "fig=plt.gcf()\n",
        "fig.set_size_inches(6,6)\n",
        "plt.legend(loc='upper right')\n",
        "plt.title('Pie Chart of Survived', y=1, fontweight='bold')\n",
        "plt.show()"
      ],
      "execution_count": 389,
      "outputs": [
        {
          "output_type": "display_data",
          "data": {
            "image/png": "[encoded data removed]",
            "text/plain": [
              "<Figure size 432x432 with 1 Axes>"
            ]
          },
          "metadata": {
            "tags": []
          }
        }
      ]
    },
    {
      "cell_type": "markdown",
      "metadata": {
        "id": "Nl-9I1Wl5M55"
      },
      "source": [
        "> From the pie chart, we can conclude that 61.6% of the total passengers survived in our dataset while 38.4% did not."
      ]
    },
    {
      "cell_type": "code",
      "metadata": {
        "colab": {
          "base_uri": "https://localhost:8080/",
          "height": 373
        },
        "id": "Ee7NZmvt6m9S",
        "outputId": "20ba1201-cfcb-46be-fcaf-e9a4313d52a0"
      },
      "source": [
        "# Pie chart of the gender distribution\n",
        "titanic['sex'].value_counts().plot(kind='pie', autopct='%1.1f%%', colors=['blue','pink'])\n",
        "fig=plt.gcf()\n",
        "fig.set_size_inches(6,6)\n",
        "plt.legend(loc='upper right')\n",
        "plt.title('Pie Chart of Gender', y=1, fontweight='bold')\n",
        "plt.show()"
      ],
      "execution_count": 390,
      "outputs": [
        {
          "output_type": "display_data",
          "data": {
            "image/png": "[encoded data removed]",
            "text/plain": [
              "<Figure size 432x432 with 1 Axes>"
            ]
          },
          "metadata": {
            "tags": []
          }
        }
      ]
    },
    {
      "cell_type": "markdown",
      "metadata": {
        "id": "ly94XjOU60pm"
      },
      "source": [
        "> From the pie chart we can tell that 64.8% of the total passengers in our dataset were male while 35.2% were female. "
      ]
    },
    {
      "cell_type": "code",
      "metadata": {
        "colab": {
          "base_uri": "https://localhost:8080/",
          "height": 373
        },
        "id": "WEZk6y9H61HS",
        "outputId": "8313d614-3670-45f4-e499-aaf06baa09ea"
      },
      "source": [
        "# Pie chart of the ports of embarkation\n",
        "titanic['embarked'].value_counts().plot(kind='pie', autopct='%1.1f%%', colors=['red','orange','blue'])\n",
        "fig=plt.gcf()\n",
        "fig.set_size_inches(6,6)\n",
        "plt.legend(loc='upper right')\n",
        "plt.title('Pie Chart of Embarkation Port', y=1, fontweight='bold')\n",
        "plt.show()"
      ],
      "execution_count": 391,
      "outputs": [
        {
          "output_type": "display_data",
          "data": {
            "image/png": "[encoded data removed]",
            "text/plain": [
              "<Figure size 432x432 with 1 Axes>"
            ]
          },
          "metadata": {
            "tags": []
          }
        }
      ]
    },
    {
      "cell_type": "markdown",
      "metadata": {
        "id": "TlzzAu707A5Y"
      },
      "source": [
        "> From the pie chart we can tell that 72.4% of the total passengers embarked at the Southampton port, 18.9% at the Cherboug port and 8.7% at the Queensburg port. "
      ]
    },
    {
      "cell_type": "code",
      "metadata": {
        "colab": {
          "base_uri": "https://localhost:8080/",
          "height": 406
        },
        "id": "N3j8T1LM7BVl",
        "outputId": "be2acdac-7191-4cee-9783-728257a5a3c1"
      },
      "source": [
        "# Pie chart of the passenger classes\n",
        "titanic['pclass'].value_counts().plot(kind='pie', autopct='%1.1f%%', colors=['brown','green','orange'])\n",
        "fig=plt.gcf()\n",
        "fig.set_size_inches(6,6)\n",
        "plt.legend(loc='upper right')\n",
        "plt.title('Pie Chart of Passenger Class', y=1.1, fontweight='bold')\n",
        "plt.show()"
      ],
      "execution_count": 392,
      "outputs": [
        {
          "output_type": "display_data",
          "data": {
            "image/png": "[encoded data removed]",
            "text/plain": [
              "<Figure size 432x432 with 1 Axes>"
            ]
          },
          "metadata": {
            "tags": []
          }
        }
      ]
    },
    {
      "cell_type": "markdown",
      "metadata": {
        "id": "iCYW6ZG07Us3"
      },
      "source": [
        "> From the pie chart we can tell that 55.1% of the total passengers in our dataset were in the 3rd class, 24.2% in the 1st class and 20.7% in the 2nd class of the ship."
      ]
    },
    {
      "cell_type": "markdown",
      "metadata": {
        "id": "Nn39Uexr7WXd"
      },
      "source": [
        "### 6.1.2 Numerical Variables"
      ]
    },
    {
      "cell_type": "markdown",
      "metadata": {
        "id": "QzpW0IjrKpeR"
      },
      "source": [
        "#### i) Measures of Central Tendency"
      ]
    },
    {
      "cell_type": "code",
      "metadata": {
        "colab": {
          "base_uri": "https://localhost:8080/"
        },
        "id": "9dX-kOosKu0J",
        "outputId": "0aa84212-2bfc-4589-c03c-d109f240806b"
      },
      "source": [
        "# Mean \n",
        "titanic[numerical].mean()"
      ],
      "execution_count": 393,
      "outputs": [
        {
          "output_type": "execute_result",
          "data": {
            "text/plain": [
              "age      29.699118\n",
              "sibsp     0.523008\n",
              "parch     0.381594\n",
              "fare     32.204208\n",
              "dtype: float64"
            ]
          },
          "metadata": {
            "tags": []
          },
          "execution_count": 393
        }
      ]
    },
    {
      "cell_type": "code",
      "metadata": {
        "colab": {
          "base_uri": "https://localhost:8080/",
          "height": 80
        },
        "id": "p9w0ZSxzK2wX",
        "outputId": "aa242a0f-7871-4357-9d26-c22e277f0421"
      },
      "source": [
        "# Mode\n",
        "titanic[numerical].mode()"
      ],
      "execution_count": 394,
      "outputs": [
        {
          "output_type": "execute_result",
          "data": {
            "text/html": [
              "<div>\n",
              "<style scoped>\n",
              "    .dataframe tbody tr th:only-of-type {\n",
              "        vertical-align: middle;\n",
              "    }\n",
              "\n",
              "    .dataframe tbody tr th {\n",
              "        vertical-align: top;\n",
              "    }\n",
              "\n",
              "    .dataframe thead th {\n",
              "        text-align: right;\n",
              "    }\n",
              "</style>\n",
              "<table border=\"1\" class=\"dataframe\">\n",
              "  <thead>\n",
              "    <tr style=\"text-align: right;\">\n",
              "      <th></th>\n",
              "      <th>age</th>\n",
              "      <th>sibsp</th>\n",
              "      <th>parch</th>\n",
              "      <th>fare</th>\n",
              "    </tr>\n",
              "  </thead>\n",
              "  <tbody>\n",
              "    <tr>\n",
              "      <th>0</th>\n",
              "      <td>29.699118</td>\n",
              "      <td>0</td>\n",
              "      <td>0</td>\n",
              "      <td>8.05</td>\n",
              "    </tr>\n",
              "  </tbody>\n",
              "</table>\n",
              "</div>"
            ],
            "text/plain": [
              "         age  sibsp  parch  fare\n",
              "0  29.699118      0      0  8.05"
            ]
          },
          "metadata": {
            "tags": []
          },
          "execution_count": 394
        }
      ]
    },
    {
      "cell_type": "code",
      "metadata": {
        "colab": {
          "base_uri": "https://localhost:8080/"
        },
        "id": "yV5rilXIK9eO",
        "outputId": "1065b178-43b5-48c4-954e-5e35818a8b24"
      },
      "source": [
        "# Median\n",
        "titanic[numerical].median()"
      ],
      "execution_count": 395,
      "outputs": [
        {
          "output_type": "execute_result",
          "data": {
            "text/plain": [
              "age      29.699118\n",
              "sibsp     0.000000\n",
              "parch     0.000000\n",
              "fare     14.454200\n",
              "dtype: float64"
            ]
          },
          "metadata": {
            "tags": []
          },
          "execution_count": 395
        }
      ]
    },
    {
      "cell_type": "markdown",
      "metadata": {
        "id": "2IyeLwZKLDmn"
      },
      "source": [
        "#### ii) Measures of Dispersion"
      ]
    },
    {
      "cell_type": "code",
      "metadata": {
        "colab": {
          "base_uri": "https://localhost:8080/"
        },
        "id": "ZcYQ4CeDLJ9t",
        "outputId": "fa807a1e-75f1-4e5e-eb6c-812a8c71bd13"
      },
      "source": [
        "# Standard Deviation\n",
        "titanic[numerical].std()"
      ],
      "execution_count": 396,
      "outputs": [
        {
          "output_type": "execute_result",
          "data": {
            "text/plain": [
              "age      13.002015\n",
              "sibsp     1.102743\n",
              "parch     0.806057\n",
              "fare     49.693429\n",
              "dtype: float64"
            ]
          },
          "metadata": {
            "tags": []
          },
          "execution_count": 396
        }
      ]
    },
    {
      "cell_type": "code",
      "metadata": {
        "colab": {
          "base_uri": "https://localhost:8080/"
        },
        "id": "g-HheWPfLQPt",
        "outputId": "8e4266d4-9e6f-4089-e603-b67a610320a7"
      },
      "source": [
        "# Variance\n",
        "titanic[numerical].var()"
      ],
      "execution_count": 397,
      "outputs": [
        {
          "output_type": "execute_result",
          "data": {
            "text/plain": [
              "age       169.052400\n",
              "sibsp       1.216043\n",
              "parch       0.649728\n",
              "fare     2469.436846\n",
              "dtype: float64"
            ]
          },
          "metadata": {
            "tags": []
          },
          "execution_count": 397
        }
      ]
    },
    {
      "cell_type": "code",
      "metadata": {
        "colab": {
          "base_uri": "https://localhost:8080/"
        },
        "id": "E2l_whuJLWk9",
        "outputId": "49e97312-4e11-4be5-9a0a-7c25d3402c9c"
      },
      "source": [
        "# Range\n",
        "max = titanic[numerical].max()\n",
        "min = titanic[numerical].min()\n",
        "range = max - min\n",
        "print(\"The range in the dataset is: \", range)"
      ],
      "execution_count": 398,
      "outputs": [
        {
          "output_type": "stream",
          "text": [
            "The range in the dataset is:  age       79.5800\n",
            "sibsp      8.0000\n",
            "parch      6.0000\n",
            "fare     512.3292\n",
            "dtype: float64\n"
          ],
          "name": "stdout"
        }
      ]
    },
    {
      "cell_type": "code",
      "metadata": {
        "colab": {
          "base_uri": "https://localhost:8080/",
          "height": 142
        },
        "id": "oEpHp-LdLw2C",
        "outputId": "bee667ae-ffa9-48bb-8aa6-114616488f1b"
      },
      "source": [
        "# Quantiles\n",
        "titanic[numerical].quantile([0.25,0.5,0.75])"
      ],
      "execution_count": 399,
      "outputs": [
        {
          "output_type": "execute_result",
          "data": {
            "text/html": [
              "<div>\n",
              "<style scoped>\n",
              "    .dataframe tbody tr th:only-of-type {\n",
              "        vertical-align: middle;\n",
              "    }\n",
              "\n",
              "    .dataframe tbody tr th {\n",
              "        vertical-align: top;\n",
              "    }\n",
              "\n",
              "    .dataframe thead th {\n",
              "        text-align: right;\n",
              "    }\n",
              "</style>\n",
              "<table border=\"1\" class=\"dataframe\">\n",
              "  <thead>\n",
              "    <tr style=\"text-align: right;\">\n",
              "      <th></th>\n",
              "      <th>age</th>\n",
              "      <th>sibsp</th>\n",
              "      <th>parch</th>\n",
              "      <th>fare</th>\n",
              "    </tr>\n",
              "  </thead>\n",
              "  <tbody>\n",
              "    <tr>\n",
              "      <th>0.25</th>\n",
              "      <td>22.000000</td>\n",
              "      <td>0.0</td>\n",
              "      <td>0.0</td>\n",
              "      <td>7.9104</td>\n",
              "    </tr>\n",
              "    <tr>\n",
              "      <th>0.50</th>\n",
              "      <td>29.699118</td>\n",
              "      <td>0.0</td>\n",
              "      <td>0.0</td>\n",
              "      <td>14.4542</td>\n",
              "    </tr>\n",
              "    <tr>\n",
              "      <th>0.75</th>\n",
              "      <td>35.000000</td>\n",
              "      <td>1.0</td>\n",
              "      <td>0.0</td>\n",
              "      <td>31.0000</td>\n",
              "    </tr>\n",
              "  </tbody>\n",
              "</table>\n",
              "</div>"
            ],
            "text/plain": [
              "            age  sibsp  parch     fare\n",
              "0.25  22.000000    0.0    0.0   7.9104\n",
              "0.50  29.699118    0.0    0.0  14.4542\n",
              "0.75  35.000000    1.0    0.0  31.0000"
            ]
          },
          "metadata": {
            "tags": []
          },
          "execution_count": 399
        }
      ]
    },
    {
      "cell_type": "code",
      "metadata": {
        "colab": {
          "base_uri": "https://localhost:8080/"
        },
        "id": "5P7OHzemNgt3",
        "outputId": "c0f7af6f-8d35-4de4-d153-e4c9e673f6b2"
      },
      "source": [
        "# Kurtosis\n",
        "titanic[numerical].kurt()"
      ],
      "execution_count": 400,
      "outputs": [
        {
          "output_type": "execute_result",
          "data": {
            "text/plain": [
              "age       0.966279\n",
              "sibsp    17.880420\n",
              "parch     9.778125\n",
              "fare     33.398141\n",
              "dtype: float64"
            ]
          },
          "metadata": {
            "tags": []
          },
          "execution_count": 400
        }
      ]
    },
    {
      "cell_type": "code",
      "metadata": {
        "colab": {
          "base_uri": "https://localhost:8080/"
        },
        "id": "UwtyED2ANpV9",
        "outputId": "852fe54f-e291-41ec-dad9-b1a6dc79a408"
      },
      "source": [
        "# Skewness\n",
        "titanic[numerical].skew()"
      ],
      "execution_count": 401,
      "outputs": [
        {
          "output_type": "execute_result",
          "data": {
            "text/plain": [
              "age      0.434488\n",
              "sibsp    3.695352\n",
              "parch    2.749117\n",
              "fare     4.787317\n",
              "dtype: float64"
            ]
          },
          "metadata": {
            "tags": []
          },
          "execution_count": 401
        }
      ]
    },
    {
      "cell_type": "markdown",
      "metadata": {
        "id": "n0_ql_VyMGaZ"
      },
      "source": [
        "#### iii) Visualization Techniques"
      ]
    },
    {
      "cell_type": "markdown",
      "metadata": {
        "id": "LmSwgMuYMuPO"
      },
      "source": [
        "> We can visualize our numerical variables using boxplots"
      ]
    },
    {
      "cell_type": "code",
      "metadata": {
        "colab": {
          "base_uri": "https://localhost:8080/",
          "height": 350
        },
        "id": "lDggDtW8MLlD",
        "outputId": "5e606aca-edbe-4019-80ab-13338a7aed18"
      },
      "source": [
        "# Age\n",
        "sns.boxplot(titanic['age'], showmeans=True) "
      ],
      "execution_count": 402,
      "outputs": [
        {
          "output_type": "stream",
          "text": [
            "/usr/local/lib/python3.7/dist-packages/seaborn/_decorators.py:43: FutureWarning: Pass the following variable as a keyword arg: x. From version 0.12, the only valid positional argument will be `data`, and passing other arguments without an explicit keyword will result in an error or misinterpretation.\n",
            "  FutureWarning\n"
          ],
          "name": "stderr"
        },
        {
          "output_type": "execute_result",
          "data": {
            "text/plain": [
              "<matplotlib.axes._subplots.AxesSubplot at 0x7fbef66836d0>"
            ]
          },
          "metadata": {
            "tags": []
          },
          "execution_count": 402
        },
        {
          "output_type": "display_data",
          "data": {
            "image/png": "[encoded data removed]",
            "text/plain": [
              "<Figure size 432x288 with 1 Axes>"
            ]
          },
          "metadata": {
            "tags": [],
            "needs_background": "light"
          }
        }
      ]
    },
    {
      "cell_type": "code",
      "metadata": {
        "colab": {
          "base_uri": "https://localhost:8080/",
          "height": 350
        },
        "id": "JOw2dQ0zM4zL",
        "outputId": "5b9dd44e-a6a7-4d8c-a895-4303d01897fe"
      },
      "source": [
        "# Sibsp\n",
        "sns.boxplot(titanic['sibsp'], showmeans=True)"
      ],
      "execution_count": 403,
      "outputs": [
        {
          "output_type": "stream",
          "text": [
            "/usr/local/lib/python3.7/dist-packages/seaborn/_decorators.py:43: FutureWarning: Pass the following variable as a keyword arg: x. From version 0.12, the only valid positional argument will be `data`, and passing other arguments without an explicit keyword will result in an error or misinterpretation.\n",
            "  FutureWarning\n"
          ],
          "name": "stderr"
        },
        {
          "output_type": "execute_result",
          "data": {
            "text/plain": [
              "<matplotlib.axes._subplots.AxesSubplot at 0x7fbef4f41750>"
            ]
          },
          "metadata": {
            "tags": []
          },
          "execution_count": 403
        },
        {
          "output_type": "display_data",
          "data": {
            "image/png": "[encoded data removed]",
            "text/plain": [
              "<Figure size 432x288 with 1 Axes>"
            ]
          },
          "metadata": {
            "tags": [],
            "needs_background": "light"
          }
        }
      ]
    },
    {
      "cell_type": "code",
      "metadata": {
        "colab": {
          "base_uri": "https://localhost:8080/",
          "height": 350
        },
        "id": "R5SETVk0N83u",
        "outputId": "aaba334b-9309-47e8-aaf8-b4683a732914"
      },
      "source": [
        "# Parch\n",
        "sns.boxplot(titanic['parch'], showmeans=True)"
      ],
      "execution_count": 404,
      "outputs": [
        {
          "output_type": "stream",
          "text": [
            "/usr/local/lib/python3.7/dist-packages/seaborn/_decorators.py:43: FutureWarning: Pass the following variable as a keyword arg: x. From version 0.12, the only valid positional argument will be `data`, and passing other arguments without an explicit keyword will result in an error or misinterpretation.\n",
            "  FutureWarning\n"
          ],
          "name": "stderr"
        },
        {
          "output_type": "execute_result",
          "data": {
            "text/plain": [
              "<matplotlib.axes._subplots.AxesSubplot at 0x7fbef46feb90>"
            ]
          },
          "metadata": {
            "tags": []
          },
          "execution_count": 404
        },
        {
          "output_type": "display_data",
          "data": {
            "image/png": "[encoded data removed]",
            "text/plain": [
              "<Figure size 432x288 with 1 Axes>"
            ]
          },
          "metadata": {
            "tags": [],
            "needs_background": "light"
          }
        }
      ]
    },
    {
      "cell_type": "code",
      "metadata": {
        "colab": {
          "base_uri": "https://localhost:8080/",
          "height": 350
        },
        "id": "zzB769xpOI4Y",
        "outputId": "733b52f6-9945-4f98-9272-86a7babe3d4b"
      },
      "source": [
        "# Fare \n",
        "sns.boxplot(titanic['fare'], showmeans=True)"
      ],
      "execution_count": 405,
      "outputs": [
        {
          "output_type": "stream",
          "text": [
            "/usr/local/lib/python3.7/dist-packages/seaborn/_decorators.py:43: FutureWarning: Pass the following variable as a keyword arg: x. From version 0.12, the only valid positional argument will be `data`, and passing other arguments without an explicit keyword will result in an error or misinterpretation.\n",
            "  FutureWarning\n"
          ],
          "name": "stderr"
        },
        {
          "output_type": "execute_result",
          "data": {
            "text/plain": [
              "<matplotlib.axes._subplots.AxesSubplot at 0x7fbef45f7250>"
            ]
          },
          "metadata": {
            "tags": []
          },
          "execution_count": 405
        },
        {
          "output_type": "display_data",
          "data": {
            "image/png": "[encoded data removed]",
            "text/plain": [
              "<Figure size 432x288 with 1 Axes>"
            ]
          },
          "metadata": {
            "tags": [],
            "needs_background": "light"
          }
        }
      ]
    },
    {
      "cell_type": "code",
      "metadata": {
        "colab": {
          "base_uri": "https://localhost:8080/",
          "height": 204
        },
        "id": "sl_dPV-u7YF4",
        "outputId": "be69a6f1-5ba0-41fb-e149-78e544be04c4"
      },
      "source": [
        "titanic.head()"
      ],
      "execution_count": 406,
      "outputs": [
        {
          "output_type": "execute_result",
          "data": {
            "text/html": [
              "<div>\n",
              "<style scoped>\n",
              "    .dataframe tbody tr th:only-of-type {\n",
              "        vertical-align: middle;\n",
              "    }\n",
              "\n",
              "    .dataframe tbody tr th {\n",
              "        vertical-align: top;\n",
              "    }\n",
              "\n",
              "    .dataframe thead th {\n",
              "        text-align: right;\n",
              "    }\n",
              "</style>\n",
              "<table border=\"1\" class=\"dataframe\">\n",
              "  <thead>\n",
              "    <tr style=\"text-align: right;\">\n",
              "      <th></th>\n",
              "      <th>survived</th>\n",
              "      <th>pclass</th>\n",
              "      <th>name</th>\n",
              "      <th>sex</th>\n",
              "      <th>age</th>\n",
              "      <th>sibsp</th>\n",
              "      <th>parch</th>\n",
              "      <th>fare</th>\n",
              "      <th>embarked</th>\n",
              "      <th>cabin_known</th>\n",
              "    </tr>\n",
              "  </thead>\n",
              "  <tbody>\n",
              "    <tr>\n",
              "      <th>0</th>\n",
              "      <td>0</td>\n",
              "      <td>3</td>\n",
              "      <td>Braund, Mr. Owen Harris</td>\n",
              "      <td>male</td>\n",
              "      <td>22.0</td>\n",
              "      <td>1</td>\n",
              "      <td>0</td>\n",
              "      <td>7.2500</td>\n",
              "      <td>S</td>\n",
              "      <td>0</td>\n",
              "    </tr>\n",
              "    <tr>\n",
              "      <th>1</th>\n",
              "      <td>1</td>\n",
              "      <td>1</td>\n",
              "      <td>Cumings, Mrs. John Bradley (Florence Briggs Th...</td>\n",
              "      <td>female</td>\n",
              "      <td>38.0</td>\n",
              "      <td>1</td>\n",
              "      <td>0</td>\n",
              "      <td>71.2833</td>\n",
              "      <td>C</td>\n",
              "      <td>1</td>\n",
              "    </tr>\n",
              "    <tr>\n",
              "      <th>2</th>\n",
              "      <td>1</td>\n",
              "      <td>3</td>\n",
              "      <td>Heikkinen, Miss. Laina</td>\n",
              "      <td>female</td>\n",
              "      <td>26.0</td>\n",
              "      <td>0</td>\n",
              "      <td>0</td>\n",
              "      <td>7.9250</td>\n",
              "      <td>S</td>\n",
              "      <td>0</td>\n",
              "    </tr>\n",
              "    <tr>\n",
              "      <th>3</th>\n",
              "      <td>1</td>\n",
              "      <td>1</td>\n",
              "      <td>Futrelle, Mrs. Jacques Heath (Lily May Peel)</td>\n",
              "      <td>female</td>\n",
              "      <td>35.0</td>\n",
              "      <td>1</td>\n",
              "      <td>0</td>\n",
              "      <td>53.1000</td>\n",
              "      <td>S</td>\n",
              "      <td>1</td>\n",
              "    </tr>\n",
              "    <tr>\n",
              "      <th>4</th>\n",
              "      <td>0</td>\n",
              "      <td>3</td>\n",
              "      <td>Allen, Mr. William Henry</td>\n",
              "      <td>male</td>\n",
              "      <td>35.0</td>\n",
              "      <td>0</td>\n",
              "      <td>0</td>\n",
              "      <td>8.0500</td>\n",
              "      <td>S</td>\n",
              "      <td>0</td>\n",
              "    </tr>\n",
              "  </tbody>\n",
              "</table>\n",
              "</div>"
            ],
            "text/plain": [
              "  survived pclass  ... embarked cabin_known\n",
              "0        0      3  ...        S           0\n",
              "1        1      1  ...        C           1\n",
              "2        1      3  ...        S           0\n",
              "3        1      1  ...        S           1\n",
              "4        0      3  ...        S           0\n",
              "\n",
              "[5 rows x 10 columns]"
            ]
          },
          "metadata": {
            "tags": []
          },
          "execution_count": 406
        }
      ]
    },
    {
      "cell_type": "markdown",
      "metadata": {
        "id": "NU9r15CeZ9R6"
      },
      "source": [
        "## 6.2 Bivariate Data Analysis"
      ]
    },
    {
      "cell_type": "markdown",
      "metadata": {
        "id": "mnXeKonmaDXc"
      },
      "source": [
        "### 6.2.1 Numerical and Numerical Variables"
      ]
    },
    {
      "cell_type": "markdown",
      "metadata": {
        "id": "hDHn2RCRaMTG"
      },
      "source": [
        "#### i) Correlation "
      ]
    },
    {
      "cell_type": "code",
      "metadata": {
        "colab": {
          "base_uri": "https://localhost:8080/",
          "height": 173
        },
        "id": "NszAFnqtahRU",
        "outputId": "6f826e47-720b-4c3b-eaaf-10a0dc3a00fd"
      },
      "source": [
        "# Correlation matrix between numerical variables\n",
        "titanic[numerical].corr()"
      ],
      "execution_count": 407,
      "outputs": [
        {
          "output_type": "execute_result",
          "data": {
            "text/html": [
              "<div>\n",
              "<style scoped>\n",
              "    .dataframe tbody tr th:only-of-type {\n",
              "        vertical-align: middle;\n",
              "    }\n",
              "\n",
              "    .dataframe tbody tr th {\n",
              "        vertical-align: top;\n",
              "    }\n",
              "\n",
              "    .dataframe thead th {\n",
              "        text-align: right;\n",
              "    }\n",
              "</style>\n",
              "<table border=\"1\" class=\"dataframe\">\n",
              "  <thead>\n",
              "    <tr style=\"text-align: right;\">\n",
              "      <th></th>\n",
              "      <th>age</th>\n",
              "      <th>sibsp</th>\n",
              "      <th>parch</th>\n",
              "      <th>fare</th>\n",
              "    </tr>\n",
              "  </thead>\n",
              "  <tbody>\n",
              "    <tr>\n",
              "      <th>age</th>\n",
              "      <td>1.000000</td>\n",
              "      <td>-0.232625</td>\n",
              "      <td>-0.179191</td>\n",
              "      <td>0.091566</td>\n",
              "    </tr>\n",
              "    <tr>\n",
              "      <th>sibsp</th>\n",
              "      <td>-0.232625</td>\n",
              "      <td>1.000000</td>\n",
              "      <td>0.414838</td>\n",
              "      <td>0.159651</td>\n",
              "    </tr>\n",
              "    <tr>\n",
              "      <th>parch</th>\n",
              "      <td>-0.179191</td>\n",
              "      <td>0.414838</td>\n",
              "      <td>1.000000</td>\n",
              "      <td>0.216225</td>\n",
              "    </tr>\n",
              "    <tr>\n",
              "      <th>fare</th>\n",
              "      <td>0.091566</td>\n",
              "      <td>0.159651</td>\n",
              "      <td>0.216225</td>\n",
              "      <td>1.000000</td>\n",
              "    </tr>\n",
              "  </tbody>\n",
              "</table>\n",
              "</div>"
            ],
            "text/plain": [
              "            age     sibsp     parch      fare\n",
              "age    1.000000 -0.232625 -0.179191  0.091566\n",
              "sibsp -0.232625  1.000000  0.414838  0.159651\n",
              "parch -0.179191  0.414838  1.000000  0.216225\n",
              "fare   0.091566  0.159651  0.216225  1.000000"
            ]
          },
          "metadata": {
            "tags": []
          },
          "execution_count": 407
        }
      ]
    },
    {
      "cell_type": "markdown",
      "metadata": {
        "id": "UDLEe9DEbZw7"
      },
      "source": [
        "# 7.0 Implementing the Solution"
      ]
    },
    {
      "cell_type": "markdown",
      "metadata": {
        "id": "fkTPZBgAgeBm"
      },
      "source": [
        "## Feature Engineering"
      ]
    },
    {
      "cell_type": "markdown",
      "metadata": {
        "id": "_pjvUHNGYX6B"
      },
      "source": [
        "> Adding a title column in the titanic dataset using the name column"
      ]
    },
    {
      "cell_type": "code",
      "metadata": {
        "colab": {
          "base_uri": "https://localhost:8080/"
        },
        "id": "X2RBwYLxCDcQ",
        "outputId": "a72a8d38-ade9-437b-c039-8fb225963b6b"
      },
      "source": [
        "# Lets check the unique values in our name column\n",
        "titanic['name'].unique()\n",
        "#print(titanic['name'].nunique())"
      ],
      "execution_count": 310,
      "outputs": [
        {
          "output_type": "execute_result",
          "data": {
            "text/plain": [
              "array(['Braund, Mr. Owen Harris',\n",
              "       'Cumings, Mrs. John Bradley (Florence Briggs Thayer)',\n",
              "       'Heikkinen, Miss. Laina',\n",
              "       'Futrelle, Mrs. Jacques Heath (Lily May Peel)',\n",
              "       'Allen, Mr. William Henry', 'Moran, Mr. James',\n",
              "       'McCarthy, Mr. Timothy J', 'Palsson, Master. Gosta Leonard',\n",
              "       'Johnson, Mrs. Oscar W (Elisabeth Vilhelmina Berg)',\n",
              "       'Nasser, Mrs. Nicholas (Adele Achem)',\n",
              "       'Sandstrom, Miss. Marguerite Rut', 'Bonnell, Miss. Elizabeth',\n",
              "       'Saundercock, Mr. William Henry', 'Andersson, Mr. Anders Johan',\n",
              "       'Vestrom, Miss. Hulda Amanda Adolfina',\n",
              "       'Hewlett, Mrs. (Mary D Kingcome) ', 'Rice, Master. Eugene',\n",
              "       'Williams, Mr. Charles Eugene',\n",
              "       'Vander Planke, Mrs. Julius (Emelia Maria Vandemoortele)',\n",
              "       'Masselmani, Mrs. Fatima', 'Fynney, Mr. Joseph J',\n",
              "       'Beesley, Mr. Lawrence', 'McGowan, Miss. Anna \"Annie\"',\n",
              "       'Sloper, Mr. William Thompson', 'Palsson, Miss. Torborg Danira',\n",
              "       'Asplund, Mrs. Carl Oscar (Selma Augusta Emilia Johansson)',\n",
              "       'Emir, Mr. Farred Chehab', 'Fortune, Mr. Charles Alexander',\n",
              "       'O\\'Dwyer, Miss. Ellen \"Nellie\"', 'Todoroff, Mr. Lalio',\n",
              "       'Uruchurtu, Don. Manuel E',\n",
              "       'Spencer, Mrs. William Augustus (Marie Eugenie)',\n",
              "       'Glynn, Miss. Mary Agatha', 'Wheadon, Mr. Edward H',\n",
              "       'Meyer, Mr. Edgar Joseph', 'Holverson, Mr. Alexander Oskar',\n",
              "       'Mamee, Mr. Hanna', 'Cann, Mr. Ernest Charles',\n",
              "       'Vander Planke, Miss. Augusta Maria',\n",
              "       'Nicola-Yarred, Miss. Jamila',\n",
              "       'Ahlin, Mrs. Johan (Johanna Persdotter Larsson)',\n",
              "       'Turpin, Mrs. William John Robert (Dorothy Ann Wonnacott)',\n",
              "       'Kraeff, Mr. Theodor', 'Laroche, Miss. Simonne Marie Anne Andree',\n",
              "       'Devaney, Miss. Margaret Delia', 'Rogers, Mr. William John',\n",
              "       'Lennon, Mr. Denis', \"O'Driscoll, Miss. Bridget\",\n",
              "       'Samaan, Mr. Youssef',\n",
              "       'Arnold-Franchi, Mrs. Josef (Josefine Franchi)',\n",
              "       'Panula, Master. Juha Niilo', 'Nosworthy, Mr. Richard Cater',\n",
              "       'Harper, Mrs. Henry Sleeper (Myna Haxtun)',\n",
              "       'Faunthorpe, Mrs. Lizzie (Elizabeth Anne Wilkinson)',\n",
              "       'Ostby, Mr. Engelhart Cornelius', 'Woolner, Mr. Hugh',\n",
              "       'Rugg, Miss. Emily', 'Novel, Mr. Mansouer',\n",
              "       'West, Miss. Constance Mirium',\n",
              "       'Goodwin, Master. William Frederick', 'Sirayanian, Mr. Orsen',\n",
              "       'Icard, Miss. Amelie', 'Harris, Mr. Henry Birkhardt',\n",
              "       'Skoog, Master. Harald', 'Stewart, Mr. Albert A',\n",
              "       'Moubarek, Master. Gerios', 'Nye, Mrs. (Elizabeth Ramell)',\n",
              "       'Crease, Mr. Ernest James', 'Andersson, Miss. Erna Alexandra',\n",
              "       'Kink, Mr. Vincenz', 'Jenkin, Mr. Stephen Curnow',\n",
              "       'Goodwin, Miss. Lillian Amy', 'Hood, Mr. Ambrose Jr',\n",
              "       'Chronopoulos, Mr. Apostolos', 'Bing, Mr. Lee',\n",
              "       'Moen, Mr. Sigurd Hansen', 'Staneff, Mr. Ivan',\n",
              "       'Moutal, Mr. Rahamin Haim', 'Caldwell, Master. Alden Gates',\n",
              "       'Dowdell, Miss. Elizabeth', 'Waelens, Mr. Achille',\n",
              "       'Sheerlinck, Mr. Jan Baptist', 'McDermott, Miss. Brigdet Delia',\n",
              "       'Carrau, Mr. Francisco M', 'Ilett, Miss. Bertha',\n",
              "       'Backstrom, Mrs. Karl Alfred (Maria Mathilda Gustafsson)',\n",
              "       'Ford, Mr. William Neal', 'Slocovski, Mr. Selman Francis',\n",
              "       'Fortune, Miss. Mabel Helen', 'Celotti, Mr. Francesco',\n",
              "       'Christmann, Mr. Emil', 'Andreasson, Mr. Paul Edvin',\n",
              "       'Chaffee, Mr. Herbert Fuller', 'Dean, Mr. Bertram Frank',\n",
              "       'Coxon, Mr. Daniel', 'Shorney, Mr. Charles Joseph',\n",
              "       'Goldschmidt, Mr. George B', 'Greenfield, Mr. William Bertram',\n",
              "       'Doling, Mrs. John T (Ada Julia Bone)', 'Kantor, Mr. Sinai',\n",
              "       'Petranec, Miss. Matilda', 'Petroff, Mr. Pastcho (\"Pentcho\")',\n",
              "       'White, Mr. Richard Frasar', 'Johansson, Mr. Gustaf Joel',\n",
              "       'Gustafsson, Mr. Anders Vilhelm', 'Mionoff, Mr. Stoytcho',\n",
              "       'Salkjelsvik, Miss. Anna Kristine', 'Moss, Mr. Albert Johan',\n",
              "       'Rekic, Mr. Tido', 'Moran, Miss. Bertha',\n",
              "       'Porter, Mr. Walter Chamberlain', 'Zabour, Miss. Hileni',\n",
              "       'Barton, Mr. David John', 'Jussila, Miss. Katriina',\n",
              "       'Attalah, Miss. Malake', 'Pekoniemi, Mr. Edvard',\n",
              "       'Connors, Mr. Patrick', 'Turpin, Mr. William John Robert',\n",
              "       'Baxter, Mr. Quigg Edmond', 'Andersson, Miss. Ellis Anna Maria',\n",
              "       'Hickman, Mr. Stanley George', 'Moore, Mr. Leonard Charles',\n",
              "       'Nasser, Mr. Nicholas', 'Webber, Miss. Susan',\n",
              "       'White, Mr. Percival Wayland', 'Nicola-Yarred, Master. Elias',\n",
              "       'McMahon, Mr. Martin', 'Madsen, Mr. Fridtjof Arne',\n",
              "       'Peter, Miss. Anna', 'Ekstrom, Mr. Johan', 'Drazenoic, Mr. Jozef',\n",
              "       'Coelho, Mr. Domingos Fernandeo',\n",
              "       'Robins, Mrs. Alexander A (Grace Charity Laury)',\n",
              "       'Weisz, Mrs. Leopold (Mathilde Francoise Pede)',\n",
              "       'Sobey, Mr. Samuel James Hayden', 'Richard, Mr. Emile',\n",
              "       'Newsom, Miss. Helen Monypeny', 'Futrelle, Mr. Jacques Heath',\n",
              "       'Osen, Mr. Olaf Elon', 'Giglio, Mr. Victor',\n",
              "       'Boulos, Mrs. Joseph (Sultana)', 'Nysten, Miss. Anna Sofia',\n",
              "       'Hakkarainen, Mrs. Pekka Pietari (Elin Matilda Dolck)',\n",
              "       'Burke, Mr. Jeremiah', 'Andrew, Mr. Edgardo Samuel',\n",
              "       'Nicholls, Mr. Joseph Charles',\n",
              "       'Andersson, Mr. August Edvard (\"Wennerstrom\")',\n",
              "       'Ford, Miss. Robina Maggie \"Ruby\"',\n",
              "       'Navratil, Mr. Michel (\"Louis M Hoffman\")',\n",
              "       'Byles, Rev. Thomas Roussel Davids', 'Bateman, Rev. Robert James',\n",
              "       'Pears, Mrs. Thomas (Edith Wearne)', 'Meo, Mr. Alfonzo',\n",
              "       'van Billiard, Mr. Austin Blyler', 'Olsen, Mr. Ole Martin',\n",
              "       'Williams, Mr. Charles Duane', 'Gilnagh, Miss. Katherine \"Katie\"',\n",
              "       'Corn, Mr. Harry', 'Smiljanic, Mr. Mile',\n",
              "       'Sage, Master. Thomas Henry', 'Cribb, Mr. John Hatfield',\n",
              "       'Watt, Mrs. James (Elizabeth \"Bessie\" Inglis Milne)',\n",
              "       'Bengtsson, Mr. John Viktor', 'Calic, Mr. Jovo',\n",
              "       'Panula, Master. Eino Viljami',\n",
              "       'Goldsmith, Master. Frank John William \"Frankie\"',\n",
              "       'Chibnall, Mrs. (Edith Martha Bowerman)',\n",
              "       'Skoog, Mrs. William (Anna Bernhardina Karlsson)',\n",
              "       'Baumann, Mr. John D', 'Ling, Mr. Lee',\n",
              "       'Van der hoef, Mr. Wyckoff', 'Rice, Master. Arthur',\n",
              "       'Johnson, Miss. Eleanor Ileen', 'Sivola, Mr. Antti Wilhelm',\n",
              "       'Smith, Mr. James Clinch', 'Klasen, Mr. Klas Albin',\n",
              "       'Lefebre, Master. Henry Forbes', 'Isham, Miss. Ann Elizabeth',\n",
              "       'Hale, Mr. Reginald', 'Leonard, Mr. Lionel',\n",
              "       'Sage, Miss. Constance Gladys', 'Pernot, Mr. Rene',\n",
              "       'Asplund, Master. Clarence Gustaf Hugo',\n",
              "       'Becker, Master. Richard F', 'Kink-Heilmann, Miss. Luise Gretchen',\n",
              "       'Rood, Mr. Hugh Roscoe',\n",
              "       'O\\'Brien, Mrs. Thomas (Johanna \"Hannah\" Godfrey)',\n",
              "       'Romaine, Mr. Charles Hallace (\"Mr C Rolmane\")',\n",
              "       'Bourke, Mr. John', 'Turcin, Mr. Stjepan', 'Pinsky, Mrs. (Rosa)',\n",
              "       'Carbines, Mr. William',\n",
              "       'Andersen-Jensen, Miss. Carla Christine Nielsine',\n",
              "       'Navratil, Master. Michel M',\n",
              "       'Brown, Mrs. James Joseph (Margaret Tobin)',\n",
              "       'Lurette, Miss. Elise', 'Mernagh, Mr. Robert',\n",
              "       'Olsen, Mr. Karl Siegwart Andreas',\n",
              "       'Madigan, Miss. Margaret \"Maggie\"',\n",
              "       'Yrois, Miss. Henriette (\"Mrs Harbeck\")',\n",
              "       'Vande Walle, Mr. Nestor Cyriel', 'Sage, Mr. Frederick',\n",
              "       'Johanson, Mr. Jakob Alfred', 'Youseff, Mr. Gerious',\n",
              "       'Cohen, Mr. Gurshon \"Gus\"', 'Strom, Miss. Telma Matilda',\n",
              "       'Backstrom, Mr. Karl Alfred', 'Albimona, Mr. Nassef Cassem',\n",
              "       'Carr, Miss. Helen \"Ellen\"', 'Blank, Mr. Henry', 'Ali, Mr. Ahmed',\n",
              "       'Cameron, Miss. Clear Annie', 'Perkin, Mr. John Henry',\n",
              "       'Givard, Mr. Hans Kristensen', 'Kiernan, Mr. Philip',\n",
              "       'Newell, Miss. Madeleine', 'Honkanen, Miss. Eliina',\n",
              "       'Jacobsohn, Mr. Sidney Samuel', 'Bazzani, Miss. Albina',\n",
              "       'Harris, Mr. Walter', 'Sunderland, Mr. Victor Francis',\n",
              "       'Bracken, Mr. James H', 'Green, Mr. George Henry',\n",
              "       'Nenkoff, Mr. Christo', 'Hoyt, Mr. Frederick Maxfield',\n",
              "       'Berglund, Mr. Karl Ivar Sven', 'Mellors, Mr. William John',\n",
              "       'Lovell, Mr. John Hall (\"Henry\")', 'Fahlstrom, Mr. Arne Jonas',\n",
              "       'Lefebre, Miss. Mathilde',\n",
              "       'Harris, Mrs. Henry Birkhardt (Irene Wallach)',\n",
              "       'Larsson, Mr. Bengt Edvin', 'Sjostedt, Mr. Ernst Adolf',\n",
              "       'Asplund, Miss. Lillian Gertrud',\n",
              "       'Leyson, Mr. Robert William Norman',\n",
              "       'Harknett, Miss. Alice Phoebe', 'Hold, Mr. Stephen',\n",
              "       'Collyer, Miss. Marjorie \"Lottie\"',\n",
              "       'Pengelly, Mr. Frederick William', 'Hunt, Mr. George Henry',\n",
              "       'Zabour, Miss. Thamine', 'Murphy, Miss. Katherine \"Kate\"',\n",
              "       'Coleridge, Mr. Reginald Charles', 'Maenpaa, Mr. Matti Alexanteri',\n",
              "       'Attalah, Mr. Sleiman', 'Minahan, Dr. William Edward',\n",
              "       'Lindahl, Miss. Agda Thorilda Viktoria',\n",
              "       'Hamalainen, Mrs. William (Anna)', 'Beckwith, Mr. Richard Leonard',\n",
              "       'Carter, Rev. Ernest Courtenay', 'Reed, Mr. James George',\n",
              "       'Strom, Mrs. Wilhelm (Elna Matilda Persson)',\n",
              "       'Stead, Mr. William Thomas', 'Lobb, Mr. William Arthur',\n",
              "       'Rosblom, Mrs. Viktor (Helena Wilhelmina)',\n",
              "       'Touma, Mrs. Darwis (Hanne Youssef Razi)',\n",
              "       'Thorne, Mrs. Gertrude Maybelle', 'Cherry, Miss. Gladys',\n",
              "       'Ward, Miss. Anna', 'Parrish, Mrs. (Lutie Davis)',\n",
              "       'Smith, Mr. Thomas', 'Asplund, Master. Edvin Rojj Felix',\n",
              "       'Taussig, Mr. Emil', 'Harrison, Mr. William', 'Henry, Miss. Delia',\n",
              "       'Reeves, Mr. David', 'Panula, Mr. Ernesti Arvid',\n",
              "       'Persson, Mr. Ernst Ulrik',\n",
              "       'Graham, Mrs. William Thompson (Edith Junkins)',\n",
              "       'Bissette, Miss. Amelia', 'Cairns, Mr. Alexander',\n",
              "       'Tornquist, Mr. William Henry',\n",
              "       'Mellinger, Mrs. (Elizabeth Anne Maidment)',\n",
              "       'Natsch, Mr. Charles H', 'Healy, Miss. Hanora \"Nora\"',\n",
              "       'Andrews, Miss. Kornelia Theodosia',\n",
              "       'Lindblom, Miss. Augusta Charlotta', 'Parkes, Mr. Francis \"Frank\"',\n",
              "       'Rice, Master. Eric', 'Abbott, Mrs. Stanton (Rosa Hunt)',\n",
              "       'Duane, Mr. Frank', 'Olsson, Mr. Nils Johan Goransson',\n",
              "       'de Pelsmaeker, Mr. Alfons', 'Dorking, Mr. Edward Arthur',\n",
              "       'Smith, Mr. Richard William', 'Stankovic, Mr. Ivan',\n",
              "       'de Mulder, Mr. Theodore', 'Naidenoff, Mr. Penko',\n",
              "       'Hosono, Mr. Masabumi', 'Connolly, Miss. Kate',\n",
              "       'Barber, Miss. Ellen \"Nellie\"',\n",
              "       'Bishop, Mrs. Dickinson H (Helen Walton)',\n",
              "       'Levy, Mr. Rene Jacques', 'Haas, Miss. Aloisia',\n",
              "       'Mineff, Mr. Ivan', 'Lewy, Mr. Ervin G', 'Hanna, Mr. Mansour',\n",
              "       'Allison, Miss. Helen Loraine', 'Saalfeld, Mr. Adolphe',\n",
              "       'Baxter, Mrs. James (Helene DeLaudeniere Chaput)',\n",
              "       'Kelly, Miss. Anna Katherine \"Annie Kate\"', 'McCoy, Mr. Bernard',\n",
              "       'Johnson, Mr. William Cahoone Jr', 'Keane, Miss. Nora A',\n",
              "       'Williams, Mr. Howard Hugh \"Harry\"',\n",
              "       'Allison, Master. Hudson Trevor', 'Fleming, Miss. Margaret',\n",
              "       'Penasco y Castellana, Mrs. Victor de Satode (Maria Josefa Perez de Soto y Vallejo)',\n",
              "       'Abelson, Mr. Samuel', 'Francatelli, Miss. Laura Mabel',\n",
              "       'Hays, Miss. Margaret Bechstein', 'Ryerson, Miss. Emily Borie',\n",
              "       'Lahtinen, Mrs. William (Anna Sylfven)', 'Hendekovic, Mr. Ignjac',\n",
              "       'Hart, Mr. Benjamin', 'Nilsson, Miss. Helmina Josefina',\n",
              "       'Kantor, Mrs. Sinai (Miriam Sternin)', 'Moraweck, Dr. Ernest',\n",
              "       'Wick, Miss. Mary Natalie',\n",
              "       'Spedden, Mrs. Frederic Oakley (Margaretta Corning Stone)',\n",
              "       'Dennis, Mr. Samuel', 'Danoff, Mr. Yoto',\n",
              "       'Slayter, Miss. Hilda Mary',\n",
              "       'Caldwell, Mrs. Albert Francis (Sylvia Mae Harbaugh)',\n",
              "       'Sage, Mr. George John Jr', 'Young, Miss. Marie Grice',\n",
              "       'Nysveen, Mr. Johan Hansen', 'Ball, Mrs. (Ada E Hall)',\n",
              "       'Goldsmith, Mrs. Frank John (Emily Alice Brown)',\n",
              "       'Hippach, Miss. Jean Gertrude', 'McCoy, Miss. Agnes',\n",
              "       'Partner, Mr. Austen', 'Graham, Mr. George Edward',\n",
              "       'Vander Planke, Mr. Leo Edmondus',\n",
              "       'Frauenthal, Mrs. Henry William (Clara Heinsheimer)',\n",
              "       'Denkoff, Mr. Mitto', 'Pears, Mr. Thomas Clinton',\n",
              "       'Burns, Miss. Elizabeth Margaret', 'Dahl, Mr. Karl Edwart',\n",
              "       'Blackwell, Mr. Stephen Weart', 'Navratil, Master. Edmond Roger',\n",
              "       'Fortune, Miss. Alice Elizabeth', 'Collander, Mr. Erik Gustaf',\n",
              "       'Sedgwick, Mr. Charles Frederick Waddington',\n",
              "       'Fox, Mr. Stanley Hubert', 'Brown, Miss. Amelia \"Mildred\"',\n",
              "       'Smith, Miss. Marion Elsie',\n",
              "       'Davison, Mrs. Thomas Henry (Mary E Finck)',\n",
              "       'Coutts, Master. William Loch \"William\"', 'Dimic, Mr. Jovan',\n",
              "       'Odahl, Mr. Nils Martin', 'Williams-Lambert, Mr. Fletcher Fellows',\n",
              "       'Elias, Mr. Tannous', 'Arnold-Franchi, Mr. Josef',\n",
              "       'Yousif, Mr. Wazli', 'Vanden Steen, Mr. Leo Peter',\n",
              "       'Bowerman, Miss. Elsie Edith', 'Funk, Miss. Annie Clemmer',\n",
              "       'McGovern, Miss. Mary', 'Mockler, Miss. Helen Mary \"Ellie\"',\n",
              "       'Skoog, Mr. Wilhelm', 'del Carlo, Mr. Sebastiano',\n",
              "       'Barbara, Mrs. (Catherine David)', 'Asim, Mr. Adola',\n",
              "       \"O'Brien, Mr. Thomas\", 'Adahl, Mr. Mauritz Nils Martin',\n",
              "       'Warren, Mrs. Frank Manley (Anna Sophia Atkinson)',\n",
              "       'Moussa, Mrs. (Mantoura Boulos)', 'Jermyn, Miss. Annie',\n",
              "       'Aubart, Mme. Leontine Pauline', 'Harder, Mr. George Achilles',\n",
              "       'Wiklund, Mr. Jakob Alfred', 'Beavan, Mr. William Thomas',\n",
              "       'Ringhini, Mr. Sante', 'Palsson, Miss. Stina Viola',\n",
              "       'Meyer, Mrs. Edgar Joseph (Leila Saks)',\n",
              "       'Landergren, Miss. Aurora Adelia', 'Widener, Mr. Harry Elkins',\n",
              "       'Betros, Mr. Tannous', 'Gustafsson, Mr. Karl Gideon',\n",
              "       'Bidois, Miss. Rosalie', 'Nakid, Miss. Maria (\"Mary\")',\n",
              "       'Tikkanen, Mr. Juho',\n",
              "       'Holverson, Mrs. Alexander Oskar (Mary Aline Towner)',\n",
              "       'Plotcharsky, Mr. Vasil', 'Davies, Mr. Charles Henry',\n",
              "       'Goodwin, Master. Sidney Leonard', 'Buss, Miss. Kate',\n",
              "       'Sadlier, Mr. Matthew', 'Lehmann, Miss. Bertha',\n",
              "       'Carter, Mr. William Ernest', 'Jansson, Mr. Carl Olof',\n",
              "       'Gustafsson, Mr. Johan Birger', 'Newell, Miss. Marjorie',\n",
              "       'Sandstrom, Mrs. Hjalmar (Agnes Charlotta Bengtsson)',\n",
              "       'Johansson, Mr. Erik', 'Olsson, Miss. Elina',\n",
              "       'McKane, Mr. Peter David', 'Pain, Dr. Alfred',\n",
              "       'Trout, Mrs. William H (Jessie L)', 'Niskanen, Mr. Juha',\n",
              "       'Adams, Mr. John', 'Jussila, Miss. Mari Aina',\n",
              "       'Hakkarainen, Mr. Pekka Pietari', 'Oreskovic, Miss. Marija',\n",
              "       'Gale, Mr. Shadrach', 'Widegren, Mr. Carl/Charles Peter',\n",
              "       'Richards, Master. William Rowe',\n",
              "       'Birkeland, Mr. Hans Martin Monsen', 'Lefebre, Miss. Ida',\n",
              "       'Sdycoff, Mr. Todor', 'Hart, Mr. Henry', 'Minahan, Miss. Daisy E',\n",
              "       'Cunningham, Mr. Alfred Fleming', 'Sundman, Mr. Johan Julian',\n",
              "       'Meek, Mrs. Thomas (Annie Louise Rowley)',\n",
              "       'Drew, Mrs. James Vivian (Lulu Thorne Christian)',\n",
              "       'Silven, Miss. Lyyli Karoliina', 'Matthews, Mr. William John',\n",
              "       'Van Impe, Miss. Catharina', 'Gheorgheff, Mr. Stanio',\n",
              "       'Charters, Mr. David', 'Zimmerman, Mr. Leo',\n",
              "       'Danbom, Mrs. Ernst Gilbert (Anna Sigrid Maria Brogren)',\n",
              "       'Rosblom, Mr. Viktor Richard', 'Wiseman, Mr. Phillippe',\n",
              "       'Clarke, Mrs. Charles V (Ada Maria Winfield)',\n",
              "       'Phillips, Miss. Kate Florence (\"Mrs Kate Louise Phillips Marshall\")',\n",
              "       'Flynn, Mr. James', 'Pickard, Mr. Berk (Berk Trembisky)',\n",
              "       'Bjornstrom-Steffansson, Mr. Mauritz Hakan',\n",
              "       'Thorneycroft, Mrs. Percival (Florence Kate White)',\n",
              "       'Louch, Mrs. Charles Alexander (Alice Adelaide Slow)',\n",
              "       'Kallio, Mr. Nikolai Erland', 'Silvey, Mr. William Baird',\n",
              "       'Carter, Miss. Lucile Polk',\n",
              "       'Ford, Miss. Doolina Margaret \"Daisy\"',\n",
              "       'Richards, Mrs. Sidney (Emily Hocking)', 'Fortune, Mr. Mark',\n",
              "       'Kvillner, Mr. Johan Henrik Johannesson',\n",
              "       'Hart, Mrs. Benjamin (Esther Ada Bloomfield)', 'Hampe, Mr. Leon',\n",
              "       'Petterson, Mr. Johan Emil', 'Reynaldo, Ms. Encarnacion',\n",
              "       'Johannesen-Bratthammer, Mr. Bernt', 'Dodge, Master. Washington',\n",
              "       'Mellinger, Miss. Madeleine Violet', 'Seward, Mr. Frederic Kimber',\n",
              "       'Baclini, Miss. Marie Catherine', 'Peuchen, Major. Arthur Godfrey',\n",
              "       'West, Mr. Edwy Arthur', 'Hagland, Mr. Ingvald Olai Olsen',\n",
              "       'Foreman, Mr. Benjamin Laventall', 'Goldenberg, Mr. Samuel L',\n",
              "       'Peduzzi, Mr. Joseph', 'Jalsevac, Mr. Ivan',\n",
              "       'Millet, Mr. Francis Davis', 'Kenyon, Mrs. Frederick R (Marion)',\n",
              "       'Toomey, Miss. Ellen', \"O'Connor, Mr. Maurice\",\n",
              "       'Anderson, Mr. Harry', 'Morley, Mr. William', 'Gee, Mr. Arthur H',\n",
              "       'Milling, Mr. Jacob Christian', 'Maisner, Mr. Simon',\n",
              "       'Goncalves, Mr. Manuel Estanslas', 'Campbell, Mr. William',\n",
              "       'Smart, Mr. John Montgomery', 'Scanlan, Mr. James',\n",
              "       'Baclini, Miss. Helene Barbara', 'Keefe, Mr. Arthur',\n",
              "       'Cacic, Mr. Luka', 'West, Mrs. Edwy Arthur (Ada Mary Worth)',\n",
              "       'Jerwan, Mrs. Amin S (Marie Marthe Thuillard)',\n",
              "       'Strandberg, Miss. Ida Sofia', 'Clifford, Mr. George Quincy',\n",
              "       'Renouf, Mr. Peter Henry', 'Braund, Mr. Lewis Richard',\n",
              "       'Karlsson, Mr. Nils August', 'Hirvonen, Miss. Hildur E',\n",
              "       'Goodwin, Master. Harold Victor',\n",
              "       'Frost, Mr. Anthony Wood \"Archie\"', 'Rouse, Mr. Richard Henry',\n",
              "       'Turkula, Mrs. (Hedwig)', 'Bishop, Mr. Dickinson H',\n",
              "       'Lefebre, Miss. Jeannie',\n",
              "       'Hoyt, Mrs. Frederick Maxfield (Jane Anne Forby)',\n",
              "       'Kent, Mr. Edward Austin', 'Somerton, Mr. Francis William',\n",
              "       'Coutts, Master. Eden Leslie \"Neville\"',\n",
              "       'Hagland, Mr. Konrad Mathias Reiersen', 'Windelov, Mr. Einar',\n",
              "       'Molson, Mr. Harry Markland', 'Artagaveytia, Mr. Ramon',\n",
              "       'Stanley, Mr. Edward Roland', 'Yousseff, Mr. Gerious',\n",
              "       'Eustis, Miss. Elizabeth Mussey',\n",
              "       'Shellard, Mr. Frederick William',\n",
              "       'Allison, Mrs. Hudson J C (Bessie Waldo Daniels)',\n",
              "       'Svensson, Mr. Olof', 'Calic, Mr. Petar', 'Canavan, Miss. Mary',\n",
              "       \"O'Sullivan, Miss. Bridget Mary\", 'Laitinen, Miss. Kristina Sofia',\n",
              "       'Maioni, Miss. Roberta',\n",
              "       'Penasco y Castellana, Mr. Victor de Satode',\n",
              "       'Quick, Mrs. Frederick Charles (Jane Richards)',\n",
              "       'Bradley, Mr. George (\"George Arthur Brayton\")',\n",
              "       'Olsen, Mr. Henry Margido', 'Lang, Mr. Fang',\n",
              "       'Daly, Mr. Eugene Patrick', 'Webber, Mr. James',\n",
              "       'McGough, Mr. James Robert',\n",
              "       'Rothschild, Mrs. Martin (Elizabeth L. Barrett)',\n",
              "       'Coleff, Mr. Satio', 'Walker, Mr. William Anderson',\n",
              "       'Lemore, Mrs. (Amelia Milley)', 'Ryan, Mr. Patrick',\n",
              "       'Angle, Mrs. William A (Florence \"Mary\" Agnes Hughes)',\n",
              "       'Pavlovic, Mr. Stefo', 'Perreault, Miss. Anne', 'Vovk, Mr. Janko',\n",
              "       'Lahoud, Mr. Sarkis',\n",
              "       'Hippach, Mrs. Louis Albert (Ida Sophia Fischer)',\n",
              "       'Kassem, Mr. Fared', 'Farrell, Mr. James', 'Ridsdale, Miss. Lucy',\n",
              "       'Farthing, Mr. John', 'Salonen, Mr. Johan Werner',\n",
              "       'Hocking, Mr. Richard George', 'Quick, Miss. Phyllis May',\n",
              "       'Toufik, Mr. Nakli', 'Elias, Mr. Joseph Jr',\n",
              "       'Peter, Mrs. Catherine (Catherine Rizk)', 'Cacic, Miss. Marija',\n",
              "       'Hart, Miss. Eva Miriam', 'Butt, Major. Archibald Willingham',\n",
              "       'LeRoy, Miss. Bertha', 'Risien, Mr. Samuel Beard',\n",
              "       'Frolicher, Miss. Hedwig Margaritha', 'Crosby, Miss. Harriet R',\n",
              "       'Andersson, Miss. Ingeborg Constanzia',\n",
              "       'Andersson, Miss. Sigrid Elisabeth', 'Beane, Mr. Edward',\n",
              "       'Douglas, Mr. Walter Donald', 'Nicholson, Mr. Arthur Ernest',\n",
              "       'Beane, Mrs. Edward (Ethel Clarke)', 'Padro y Manent, Mr. Julian',\n",
              "       'Goldsmith, Mr. Frank John', 'Davies, Master. John Morgan Jr',\n",
              "       'Thayer, Mr. John Borland Jr', 'Sharp, Mr. Percival James R',\n",
              "       \"O'Brien, Mr. Timothy\", 'Leeni, Mr. Fahim (\"Philip Zenni\")',\n",
              "       'Ohman, Miss. Velin', 'Wright, Mr. George',\n",
              "       'Duff Gordon, Lady. (Lucille Christiana Sutherland) (\"Mrs Morgan\")',\n",
              "       'Robbins, Mr. Victor', 'Taussig, Mrs. Emil (Tillie Mandelbaum)',\n",
              "       'de Messemaeker, Mrs. Guillaume Joseph (Emma)',\n",
              "       'Morrow, Mr. Thomas Rowan', 'Sivic, Mr. Husein',\n",
              "       'Norman, Mr. Robert Douglas', 'Simmons, Mr. John',\n",
              "       'Meanwell, Miss. (Marion Ogden)', 'Davies, Mr. Alfred J',\n",
              "       'Stoytcheff, Mr. Ilia',\n",
              "       'Palsson, Mrs. Nils (Alma Cornelia Berglund)',\n",
              "       'Doharr, Mr. Tannous', 'Jonsson, Mr. Carl', 'Harris, Mr. George',\n",
              "       'Appleton, Mrs. Edward Dale (Charlotte Lamson)',\n",
              "       'Flynn, Mr. John Irwin (\"Irving\")', 'Kelly, Miss. Mary',\n",
              "       'Rush, Mr. Alfred George John', 'Patchett, Mr. George',\n",
              "       'Garside, Miss. Ethel',\n",
              "       'Silvey, Mrs. William Baird (Alice Munger)',\n",
              "       'Caram, Mrs. Joseph (Maria Elias)', 'Jussila, Mr. Eiriik',\n",
              "       'Christy, Miss. Julie Rachel',\n",
              "       'Thayer, Mrs. John Borland (Marian Longstreth Morris)',\n",
              "       'Downton, Mr. William James', 'Ross, Mr. John Hugo',\n",
              "       'Paulner, Mr. Uscher', 'Taussig, Miss. Ruth',\n",
              "       'Jarvis, Mr. John Denzil', 'Frolicher-Stehli, Mr. Maxmillian',\n",
              "       'Gilinski, Mr. Eliezer', 'Murdlin, Mr. Joseph',\n",
              "       'Rintamaki, Mr. Matti',\n",
              "       'Stephenson, Mrs. Walter Bertram (Martha Eustis)',\n",
              "       'Elsbury, Mr. William James', 'Bourke, Miss. Mary',\n",
              "       'Chapman, Mr. John Henry', 'Van Impe, Mr. Jean Baptiste',\n",
              "       'Leitch, Miss. Jessie Wills', 'Johnson, Mr. Alfred',\n",
              "       'Boulos, Mr. Hanna',\n",
              "       'Duff Gordon, Sir. Cosmo Edmund (\"Mr Morgan\")',\n",
              "       'Jacobsohn, Mrs. Sidney Samuel (Amy Frances Christy)',\n",
              "       'Slabenoff, Mr. Petco', 'Harrington, Mr. Charles H',\n",
              "       'Torber, Mr. Ernst William', 'Homer, Mr. Harry (\"Mr E Haven\")',\n",
              "       'Lindell, Mr. Edvard Bengtsson', 'Karaic, Mr. Milan',\n",
              "       'Daniel, Mr. Robert Williams',\n",
              "       'Laroche, Mrs. Joseph (Juliette Marie Louise Lafargue)',\n",
              "       'Shutes, Miss. Elizabeth W',\n",
              "       'Andersson, Mrs. Anders Johan (Alfrida Konstantia Brogren)',\n",
              "       'Jardin, Mr. Jose Neto', 'Murphy, Miss. Margaret Jane',\n",
              "       'Horgan, Mr. John', 'Brocklebank, Mr. William Alfred',\n",
              "       'Herman, Miss. Alice', 'Danbom, Mr. Ernst Gilbert',\n",
              "       'Lobb, Mrs. William Arthur (Cordelia K Stanlick)',\n",
              "       'Becker, Miss. Marion Louise', 'Gavey, Mr. Lawrence',\n",
              "       'Yasbeck, Mr. Antoni', 'Kimball, Mr. Edwin Nelson Jr',\n",
              "       'Nakid, Mr. Sahid', 'Hansen, Mr. Henry Damsgaard',\n",
              "       'Bowen, Mr. David John \"Dai\"', 'Sutton, Mr. Frederick',\n",
              "       'Kirkland, Rev. Charles Leonard', 'Longley, Miss. Gretchen Fiske',\n",
              "       'Bostandyeff, Mr. Guentcho', \"O'Connell, Mr. Patrick D\",\n",
              "       'Barkworth, Mr. Algernon Henry Wilson',\n",
              "       'Lundahl, Mr. Johan Svensson', 'Stahelin-Maeglin, Dr. Max',\n",
              "       'Parr, Mr. William Henry Marsh', 'Skoog, Miss. Mabel',\n",
              "       'Davis, Miss. Mary', 'Leinonen, Mr. Antti Gustaf',\n",
              "       'Collyer, Mr. Harvey', 'Panula, Mrs. Juha (Maria Emilia Ojala)',\n",
              "       'Thorneycroft, Mr. Percival', 'Jensen, Mr. Hans Peder',\n",
              "       'Sagesser, Mlle. Emma', 'Skoog, Miss. Margit Elizabeth',\n",
              "       'Foo, Mr. Choong', 'Baclini, Miss. Eugenie',\n",
              "       'Harper, Mr. Henry Sleeper', 'Cor, Mr. Liudevit',\n",
              "       'Simonius-Blumer, Col. Oberst Alfons', 'Willey, Mr. Edward',\n",
              "       'Stanley, Miss. Amy Zillah Elsie', 'Mitkoff, Mr. Mito',\n",
              "       'Doling, Miss. Elsie', 'Kalvik, Mr. Johannes Halvorsen',\n",
              "       'O\\'Leary, Miss. Hanora \"Norah\"', 'Hegarty, Miss. Hanora \"Nora\"',\n",
              "       'Hickman, Mr. Leonard Mark', 'Radeff, Mr. Alexander',\n",
              "       'Bourke, Mrs. John (Catherine)', 'Eitemiller, Mr. George Floyd',\n",
              "       'Newell, Mr. Arthur Webster', 'Frauenthal, Dr. Henry William',\n",
              "       'Badt, Mr. Mohamed', 'Colley, Mr. Edward Pomeroy',\n",
              "       'Coleff, Mr. Peju', 'Lindqvist, Mr. Eino William',\n",
              "       'Hickman, Mr. Lewis', 'Butler, Mr. Reginald Fenton',\n",
              "       'Rommetvedt, Mr. Knud Paust', 'Cook, Mr. Jacob',\n",
              "       'Taylor, Mrs. Elmer Zebley (Juliet Cummins Wright)',\n",
              "       'Brown, Mrs. Thomas William Solomon (Elizabeth Catherine Ford)',\n",
              "       'Davidson, Mr. Thornton', 'Mitchell, Mr. Henry Michael',\n",
              "       'Wilhelms, Mr. Charles', 'Watson, Mr. Ennis Hastings',\n",
              "       'Edvardsson, Mr. Gustaf Hjalmar', 'Sawyer, Mr. Frederick Charles',\n",
              "       'Turja, Miss. Anna Sofia',\n",
              "       'Goodwin, Mrs. Frederick (Augusta Tyler)',\n",
              "       'Cardeza, Mr. Thomas Drake Martinez', 'Peters, Miss. Katie',\n",
              "       'Hassab, Mr. Hammad', 'Olsvigen, Mr. Thor Anderson',\n",
              "       'Goodwin, Mr. Charles Edward', 'Brown, Mr. Thomas William Solomon',\n",
              "       'Laroche, Mr. Joseph Philippe Lemercier',\n",
              "       'Panula, Mr. Jaako Arnold', 'Dakic, Mr. Branko',\n",
              "       'Fischer, Mr. Eberhard Thelander',\n",
              "       'Madill, Miss. Georgette Alexandra', 'Dick, Mr. Albert Adrian',\n",
              "       'Karun, Miss. Manca', 'Lam, Mr. Ali', 'Saad, Mr. Khalil',\n",
              "       'Weir, Col. John', 'Chapman, Mr. Charles Henry',\n",
              "       'Kelly, Mr. James', 'Mullens, Miss. Katherine \"Katie\"',\n",
              "       'Thayer, Mr. John Borland',\n",
              "       'Humblen, Mr. Adolf Mathias Nicolai Olsen',\n",
              "       'Astor, Mrs. John Jacob (Madeleine Talmadge Force)',\n",
              "       'Silverthorne, Mr. Spencer Victor', 'Barbara, Miss. Saiide',\n",
              "       'Gallagher, Mr. Martin', 'Hansen, Mr. Henrik Juul',\n",
              "       'Morley, Mr. Henry Samuel (\"Mr Henry Marshall\")',\n",
              "       'Kelly, Mrs. Florence \"Fannie\"',\n",
              "       'Calderhead, Mr. Edward Pennington', 'Cleaver, Miss. Alice',\n",
              "       'Moubarek, Master. Halim Gonios (\"William George\")',\n",
              "       'Mayne, Mlle. Berthe Antonine (\"Mrs de Villiers\")',\n",
              "       'Klaber, Mr. Herman', 'Taylor, Mr. Elmer Zebley',\n",
              "       'Larsson, Mr. August Viktor', 'Greenberg, Mr. Samuel',\n",
              "       'Soholt, Mr. Peter Andreas Lauritz Andersen',\n",
              "       'Endres, Miss. Caroline Louise',\n",
              "       'Troutt, Miss. Edwina Celia \"Winnie\"', 'McEvoy, Mr. Michael',\n",
              "       'Johnson, Mr. Malkolm Joackim',\n",
              "       'Harper, Miss. Annie Jessie \"Nina\"', 'Jensen, Mr. Svend Lauritz',\n",
              "       'Gillespie, Mr. William Henry', 'Hodges, Mr. Henry Price',\n",
              "       'Chambers, Mr. Norman Campbell', 'Oreskovic, Mr. Luka',\n",
              "       'Renouf, Mrs. Peter Henry (Lillian Jefferys)',\n",
              "       'Mannion, Miss. Margareth', 'Bryhl, Mr. Kurt Arnold Gottfrid',\n",
              "       'Ilmakangas, Miss. Pieta Sofia', 'Allen, Miss. Elisabeth Walton',\n",
              "       'Hassan, Mr. Houssein G N', 'Knight, Mr. Robert J',\n",
              "       'Berriman, Mr. William John', 'Troupiansky, Mr. Moses Aaron',\n",
              "       'Williams, Mr. Leslie', 'Ford, Mrs. Edward (Margaret Ann Watson)',\n",
              "       'Lesurer, Mr. Gustave J', 'Ivanoff, Mr. Kanio',\n",
              "       'Nankoff, Mr. Minko', 'Hawksford, Mr. Walter James',\n",
              "       'Cavendish, Mr. Tyrell William',\n",
              "       'Ryerson, Miss. Susan Parker \"Suzette\"', 'McNamee, Mr. Neal',\n",
              "       'Stranden, Mr. Juho', 'Crosby, Capt. Edward Gifford',\n",
              "       'Abbott, Mr. Rossmore Edward', 'Sinkkonen, Miss. Anna',\n",
              "       'Marvin, Mr. Daniel Warner', 'Connaghton, Mr. Michael',\n",
              "       'Wells, Miss. Joan', 'Moor, Master. Meier',\n",
              "       'Vande Velde, Mr. Johannes Joseph', 'Jonkoff, Mr. Lalio',\n",
              "       'Herman, Mrs. Samuel (Jane Laver)', 'Hamalainen, Master. Viljo',\n",
              "       'Carlsson, Mr. August Sigfrid', 'Bailey, Mr. Percy Andrew',\n",
              "       'Theobald, Mr. Thomas Leonard',\n",
              "       'Rothes, the Countess. of (Lucy Noel Martha Dyer-Edwards)',\n",
              "       'Garfirth, Mr. John', 'Nirva, Mr. Iisakki Antino Aijo',\n",
              "       'Barah, Mr. Hanna Assi',\n",
              "       'Carter, Mrs. William Ernest (Lucile Polk)',\n",
              "       'Eklund, Mr. Hans Linus', 'Hogeboom, Mrs. John C (Anna Andrews)',\n",
              "       'Brewe, Dr. Arthur Jackson', 'Mangan, Miss. Mary',\n",
              "       'Moran, Mr. Daniel J', 'Gronnestad, Mr. Daniel Danielsen',\n",
              "       'Lievens, Mr. Rene Aime', 'Jensen, Mr. Niels Peder',\n",
              "       'Mack, Mrs. (Mary)', 'Elias, Mr. Dibo',\n",
              "       'Hocking, Mrs. Elizabeth (Eliza Needs)',\n",
              "       'Myhrman, Mr. Pehr Fabian Oliver Malkolm', 'Tobin, Mr. Roger',\n",
              "       'Emanuel, Miss. Virginia Ethel', 'Kilgannon, Mr. Thomas J',\n",
              "       'Robert, Mrs. Edward Scott (Elisabeth Walton McMillan)',\n",
              "       'Ayoub, Miss. Banoura',\n",
              "       'Dick, Mrs. Albert Adrian (Vera Gillespie)',\n",
              "       'Long, Mr. Milton Clyde', 'Johnston, Mr. Andrew G',\n",
              "       'Ali, Mr. William', 'Harmer, Mr. Abraham (David Lishin)',\n",
              "       'Sjoblom, Miss. Anna Sofia', 'Rice, Master. George Hugh',\n",
              "       'Dean, Master. Bertram Vere', 'Guggenheim, Mr. Benjamin',\n",
              "       'Keane, Mr. Andrew \"Andy\"', 'Gaskell, Mr. Alfred',\n",
              "       'Sage, Miss. Stella Anna', 'Hoyt, Mr. William Fisher',\n",
              "       'Dantcheff, Mr. Ristiu', 'Otter, Mr. Richard',\n",
              "       'Leader, Dr. Alice (Farnham)', 'Osman, Mrs. Mara',\n",
              "       'Ibrahim Shawah, Mr. Yousseff',\n",
              "       'Van Impe, Mrs. Jean Baptiste (Rosalie Paula Govaert)',\n",
              "       'Ponesell, Mr. Martin',\n",
              "       'Collyer, Mrs. Harvey (Charlotte Annie Tate)',\n",
              "       'Carter, Master. William Thornton II',\n",
              "       'Thomas, Master. Assad Alexander', 'Hedman, Mr. Oskar Arvid',\n",
              "       'Johansson, Mr. Karl Johan', 'Andrews, Mr. Thomas Jr',\n",
              "       'Pettersson, Miss. Ellen Natalia', 'Meyer, Mr. August',\n",
              "       'Chambers, Mrs. Norman Campbell (Bertha Griggs)',\n",
              "       'Alexander, Mr. William', 'Lester, Mr. James',\n",
              "       'Slemen, Mr. Richard James', 'Andersson, Miss. Ebba Iris Alfrida',\n",
              "       'Tomlin, Mr. Ernest Portage', 'Fry, Mr. Richard',\n",
              "       'Heininen, Miss. Wendla Maria', 'Mallet, Mr. Albert',\n",
              "       'Holm, Mr. John Fredrik Alexander', 'Skoog, Master. Karl Thorsten',\n",
              "       'Hays, Mrs. Charles Melville (Clara Jennings Gregg)',\n",
              "       'Lulic, Mr. Nikola', 'Reuchlin, Jonkheer. John George',\n",
              "       'Moor, Mrs. (Beila)', 'Panula, Master. Urho Abraham',\n",
              "       'Flynn, Mr. John', 'Lam, Mr. Len', 'Mallet, Master. Andre',\n",
              "       'McCormack, Mr. Thomas Joseph',\n",
              "       'Stone, Mrs. George Nelson (Martha Evelyn)',\n",
              "       'Yasbeck, Mrs. Antoni (Selini Alexander)',\n",
              "       'Richards, Master. George Sibley', 'Saad, Mr. Amin',\n",
              "       'Augustsson, Mr. Albert', 'Allum, Mr. Owen George',\n",
              "       'Compton, Miss. Sara Rebecca', 'Pasic, Mr. Jakob',\n",
              "       'Sirota, Mr. Maurice', 'Chip, Mr. Chang', 'Marechal, Mr. Pierre',\n",
              "       'Alhomaki, Mr. Ilmari Rudolf', 'Mudd, Mr. Thomas Charles',\n",
              "       'Serepeca, Miss. Augusta', 'Lemberopolous, Mr. Peter L',\n",
              "       'Culumovic, Mr. Jeso', 'Abbing, Mr. Anthony',\n",
              "       'Sage, Mr. Douglas Bullen', 'Markoff, Mr. Marin',\n",
              "       'Harper, Rev. John',\n",
              "       'Goldenberg, Mrs. Samuel L (Edwiga Grabowska)',\n",
              "       'Andersson, Master. Sigvard Harald Elias', 'Svensson, Mr. Johan',\n",
              "       'Boulos, Miss. Nourelain', 'Lines, Miss. Mary Conover',\n",
              "       'Carter, Mrs. Ernest Courtenay (Lilian Hughes)',\n",
              "       'Aks, Mrs. Sam (Leah Rosen)',\n",
              "       'Wick, Mrs. George Dennick (Mary Hitchcock)',\n",
              "       'Daly, Mr. Peter Denis ', 'Baclini, Mrs. Solomon (Latifa Qurban)',\n",
              "       'Razi, Mr. Raihed', 'Hansen, Mr. Claus Peter',\n",
              "       'Giles, Mr. Frederick Edward',\n",
              "       'Swift, Mrs. Frederick Joel (Margaret Welles Barron)',\n",
              "       'Sage, Miss. Dorothy Edith \"Dolly\"', 'Gill, Mr. John William',\n",
              "       'Bystrom, Mrs. (Karolina)', 'Duran y More, Miss. Asuncion',\n",
              "       'Roebling, Mr. Washington Augustus II',\n",
              "       'van Melkebeke, Mr. Philemon', 'Johnson, Master. Harold Theodor',\n",
              "       'Balkic, Mr. Cerin',\n",
              "       'Beckwith, Mrs. Richard Leonard (Sallie Monypeny)',\n",
              "       'Carlsson, Mr. Frans Olof', 'Vander Cruyssen, Mr. Victor',\n",
              "       'Abelson, Mrs. Samuel (Hannah Wizosky)',\n",
              "       'Najib, Miss. Adele Kiamie \"Jane\"',\n",
              "       'Gustafsson, Mr. Alfred Ossian', 'Petroff, Mr. Nedelio',\n",
              "       'Laleff, Mr. Kristo',\n",
              "       'Potter, Mrs. Thomas Jr (Lily Alexenia Wilson)',\n",
              "       'Shelley, Mrs. William (Imanita Parrish Hall)',\n",
              "       'Markun, Mr. Johann', 'Dahlberg, Miss. Gerda Ulrika',\n",
              "       'Banfield, Mr. Frederick James', 'Sutehall, Mr. Henry Jr',\n",
              "       'Rice, Mrs. William (Margaret Norton)', 'Montvila, Rev. Juozas',\n",
              "       'Graham, Miss. Margaret Edith',\n",
              "       'Johnston, Miss. Catherine Helen \"Carrie\"',\n",
              "       'Behr, Mr. Karl Howell', 'Dooley, Mr. Patrick'], dtype=object)"
            ]
          },
          "metadata": {
            "tags": []
          },
          "execution_count": 310
        }
      ]
    },
    {
      "cell_type": "code",
      "metadata": {
        "colab": {
          "base_uri": "https://localhost:8080/"
        },
        "id": "jVLw8QbcDW55",
        "outputId": "b632c256-4b5c-4daf-b330-e1acd7a0f88a"
      },
      "source": [
        "# The count of the different names and titles in our dataset\n",
        "titanic.name.value_counts()"
      ],
      "execution_count": 311,
      "outputs": [
        {
          "output_type": "execute_result",
          "data": {
            "text/plain": [
              "Marechal, Mr. Pierre                        1\n",
              "Pickard, Mr. Berk (Berk Trembisky)          1\n",
              "Hendekovic, Mr. Ignjac                      1\n",
              "Navratil, Mr. Michel (\"Louis M Hoffman\")    1\n",
              "Smith, Miss. Marion Elsie                   1\n",
              "                                           ..\n",
              "Coutts, Master. Eden Leslie \"Neville\"       1\n",
              "Funk, Miss. Annie Clemmer                   1\n",
              "Zabour, Miss. Hileni                        1\n",
              "Navratil, Master. Edmond Roger              1\n",
              "Barkworth, Mr. Algernon Henry Wilson        1\n",
              "Name: name, Length: 891, dtype: int64"
            ]
          },
          "metadata": {
            "tags": []
          },
          "execution_count": 311
        }
      ]
    },
    {
      "cell_type": "markdown",
      "metadata": {
        "id": "dU50MvvWCb17"
      },
      "source": [
        "> We can acknowledge that there are so many different names which makes sense since names are discrete values. Therefore we can distinguish between common (Mr., Mrs., Miss.) since they are the majority and the uncommon ones like Dr., Rev., etc "
      ]
    },
    {
      "cell_type": "code",
      "metadata": {
        "id": "b72WKLbHXjZa"
      },
      "source": [
        "# After viewing the data, we notice there is a name column which has quite the information\n",
        "# It would be difficult to use this column since it has very many distinct names\n",
        "# We can strip the names and pick common and uncommon titles\n",
        "# Common titles can be such as Mr., Mrs., Miss. while uncommon like Dr.,Capt etc\n",
        "titanic['title'] = titanic['name'].apply(lambda y: y.split(',')[1].strip().split(' ')[0])\n",
        "titanic['title'] = [0 if y in ['Mr.', 'Mrs.', 'Miss.'] else 1 for y in titanic['title']]\n",
        "titanic.drop('name', axis=1, inplace=True)"
      ],
      "execution_count": 312,
      "outputs": []
    },
    {
      "cell_type": "code",
      "metadata": {
        "colab": {
          "base_uri": "https://localhost:8080/"
        },
        "id": "MuBSlYkPiKZA",
        "outputId": "b220a95a-c9fa-41e5-ae15-4475bfba077f"
      },
      "source": [
        "# Checking the count of titles in the title column\n",
        "titanic['title'].value_counts()"
      ],
      "execution_count": 313,
      "outputs": [
        {
          "output_type": "execute_result",
          "data": {
            "text/plain": [
              "0    824\n",
              "1     67\n",
              "Name: title, dtype: int64"
            ]
          },
          "metadata": {
            "tags": []
          },
          "execution_count": 313
        }
      ]
    },
    {
      "cell_type": "code",
      "metadata": {
        "colab": {
          "base_uri": "https://localhost:8080/",
          "height": 204
        },
        "id": "1OL6s1D6ahvl",
        "outputId": "384689ab-aaf0-4a8e-9360-a9a632d05dc3"
      },
      "source": [
        "# Previewing the title column\n",
        "titanic.head()"
      ],
      "execution_count": 314,
      "outputs": [
        {
          "output_type": "execute_result",
          "data": {
            "text/html": [
              "<div>\n",
              "<style scoped>\n",
              "    .dataframe tbody tr th:only-of-type {\n",
              "        vertical-align: middle;\n",
              "    }\n",
              "\n",
              "    .dataframe tbody tr th {\n",
              "        vertical-align: top;\n",
              "    }\n",
              "\n",
              "    .dataframe thead th {\n",
              "        text-align: right;\n",
              "    }\n",
              "</style>\n",
              "<table border=\"1\" class=\"dataframe\">\n",
              "  <thead>\n",
              "    <tr style=\"text-align: right;\">\n",
              "      <th></th>\n",
              "      <th>survived</th>\n",
              "      <th>pclass</th>\n",
              "      <th>sex</th>\n",
              "      <th>age</th>\n",
              "      <th>sibsp</th>\n",
              "      <th>parch</th>\n",
              "      <th>fare</th>\n",
              "      <th>embarked</th>\n",
              "      <th>cabin_known</th>\n",
              "      <th>title</th>\n",
              "    </tr>\n",
              "  </thead>\n",
              "  <tbody>\n",
              "    <tr>\n",
              "      <th>0</th>\n",
              "      <td>0</td>\n",
              "      <td>3</td>\n",
              "      <td>male</td>\n",
              "      <td>22.0</td>\n",
              "      <td>1</td>\n",
              "      <td>0</td>\n",
              "      <td>7.2500</td>\n",
              "      <td>S</td>\n",
              "      <td>0</td>\n",
              "      <td>0</td>\n",
              "    </tr>\n",
              "    <tr>\n",
              "      <th>1</th>\n",
              "      <td>1</td>\n",
              "      <td>1</td>\n",
              "      <td>female</td>\n",
              "      <td>38.0</td>\n",
              "      <td>1</td>\n",
              "      <td>0</td>\n",
              "      <td>71.2833</td>\n",
              "      <td>C</td>\n",
              "      <td>1</td>\n",
              "      <td>0</td>\n",
              "    </tr>\n",
              "    <tr>\n",
              "      <th>2</th>\n",
              "      <td>1</td>\n",
              "      <td>3</td>\n",
              "      <td>female</td>\n",
              "      <td>26.0</td>\n",
              "      <td>0</td>\n",
              "      <td>0</td>\n",
              "      <td>7.9250</td>\n",
              "      <td>S</td>\n",
              "      <td>0</td>\n",
              "      <td>0</td>\n",
              "    </tr>\n",
              "    <tr>\n",
              "      <th>3</th>\n",
              "      <td>1</td>\n",
              "      <td>1</td>\n",
              "      <td>female</td>\n",
              "      <td>35.0</td>\n",
              "      <td>1</td>\n",
              "      <td>0</td>\n",
              "      <td>53.1000</td>\n",
              "      <td>S</td>\n",
              "      <td>1</td>\n",
              "      <td>0</td>\n",
              "    </tr>\n",
              "    <tr>\n",
              "      <th>4</th>\n",
              "      <td>0</td>\n",
              "      <td>3</td>\n",
              "      <td>male</td>\n",
              "      <td>35.0</td>\n",
              "      <td>0</td>\n",
              "      <td>0</td>\n",
              "      <td>8.0500</td>\n",
              "      <td>S</td>\n",
              "      <td>0</td>\n",
              "      <td>0</td>\n",
              "    </tr>\n",
              "  </tbody>\n",
              "</table>\n",
              "</div>"
            ],
            "text/plain": [
              "  survived pclass     sex   age  ...     fare  embarked  cabin_known title\n",
              "0        0      3    male  22.0  ...   7.2500         S            0     0\n",
              "1        1      1  female  38.0  ...  71.2833         C            1     0\n",
              "2        1      3  female  26.0  ...   7.9250         S            0     0\n",
              "3        1      1  female  35.0  ...  53.1000         S            1     0\n",
              "4        0      3    male  35.0  ...   8.0500         S            0     0\n",
              "\n",
              "[5 rows x 10 columns]"
            ]
          },
          "metadata": {
            "tags": []
          },
          "execution_count": 314
        }
      ]
    },
    {
      "cell_type": "markdown",
      "metadata": {
        "id": "FXW1T_fGaxdS"
      },
      "source": [
        "> - 0 represents the common titles (Mr., Mrs., Miss.) \n",
        "- 1 represents the other titles such as Dr., Rev., Capt etc"
      ]
    },
    {
      "cell_type": "markdown",
      "metadata": {
        "id": "tQ7DfucboLHe"
      },
      "source": [
        "## Classification Prediction using KNN"
      ]
    },
    {
      "cell_type": "markdown",
      "metadata": {
        "id": "UXhZQS3Mbj2y"
      },
      "source": [
        "> Preview the dataset to understand the columns we will use in our modelling"
      ]
    },
    {
      "cell_type": "code",
      "metadata": {
        "colab": {
          "base_uri": "https://localhost:8080/",
          "height": 111
        },
        "id": "og7S5WA_kSDK",
        "outputId": "a617a360-44a0-4504-ac61-140db4cb5c48"
      },
      "source": [
        "# Previewing the titanic dataset\n",
        "titanic.head(2)"
      ],
      "execution_count": 315,
      "outputs": [
        {
          "output_type": "execute_result",
          "data": {
            "text/html": [
              "<div>\n",
              "<style scoped>\n",
              "    .dataframe tbody tr th:only-of-type {\n",
              "        vertical-align: middle;\n",
              "    }\n",
              "\n",
              "    .dataframe tbody tr th {\n",
              "        vertical-align: top;\n",
              "    }\n",
              "\n",
              "    .dataframe thead th {\n",
              "        text-align: right;\n",
              "    }\n",
              "</style>\n",
              "<table border=\"1\" class=\"dataframe\">\n",
              "  <thead>\n",
              "    <tr style=\"text-align: right;\">\n",
              "      <th></th>\n",
              "      <th>survived</th>\n",
              "      <th>pclass</th>\n",
              "      <th>sex</th>\n",
              "      <th>age</th>\n",
              "      <th>sibsp</th>\n",
              "      <th>parch</th>\n",
              "      <th>fare</th>\n",
              "      <th>embarked</th>\n",
              "      <th>cabin_known</th>\n",
              "      <th>title</th>\n",
              "    </tr>\n",
              "  </thead>\n",
              "  <tbody>\n",
              "    <tr>\n",
              "      <th>0</th>\n",
              "      <td>0</td>\n",
              "      <td>3</td>\n",
              "      <td>male</td>\n",
              "      <td>22.0</td>\n",
              "      <td>1</td>\n",
              "      <td>0</td>\n",
              "      <td>7.2500</td>\n",
              "      <td>S</td>\n",
              "      <td>0</td>\n",
              "      <td>0</td>\n",
              "    </tr>\n",
              "    <tr>\n",
              "      <th>1</th>\n",
              "      <td>1</td>\n",
              "      <td>1</td>\n",
              "      <td>female</td>\n",
              "      <td>38.0</td>\n",
              "      <td>1</td>\n",
              "      <td>0</td>\n",
              "      <td>71.2833</td>\n",
              "      <td>C</td>\n",
              "      <td>1</td>\n",
              "      <td>0</td>\n",
              "    </tr>\n",
              "  </tbody>\n",
              "</table>\n",
              "</div>"
            ],
            "text/plain": [
              "  survived pclass     sex   age  ...     fare  embarked  cabin_known title\n",
              "0        0      3    male  22.0  ...   7.2500         S            0     0\n",
              "1        1      1  female  38.0  ...  71.2833         C            1     0\n",
              "\n",
              "[2 rows x 10 columns]"
            ]
          },
          "metadata": {
            "tags": []
          },
          "execution_count": 315
        }
      ]
    },
    {
      "cell_type": "markdown",
      "metadata": {
        "id": "PpVW0VfSyTVN"
      },
      "source": [
        "> Then, we encode the categorical variables using the following approaches:\n",
        "- Label Encoding the age column\n",
        "- Get dummies on the embarked column"
      ]
    },
    {
      "cell_type": "code",
      "metadata": {
        "id": "UbudZfrXngys",
        "colab": {
          "base_uri": "https://localhost:8080/",
          "height": 204
        },
        "outputId": "14e11acd-f19c-4438-92e5-692041e16a5a"
      },
      "source": [
        "# Encoding the categorical columns\n",
        "# Age column\n",
        "from sklearn.preprocessing import LabelEncoder\n",
        "le = LabelEncoder()\n",
        "titanic['sex'] = le.fit_transform(titanic['sex'])\n",
        "\n",
        "# Get dummies on the embarked column \n",
        "dums = pd.get_dummies(titanic['embarked'], prefix=\"Point\")\n",
        "titanic = titanic.join(dums)\n",
        "titanic.drop('embarked', axis=1, inplace=True)\n",
        "titanic.head()"
      ],
      "execution_count": 316,
      "outputs": [
        {
          "output_type": "execute_result",
          "data": {
            "text/html": [
              "<div>\n",
              "<style scoped>\n",
              "    .dataframe tbody tr th:only-of-type {\n",
              "        vertical-align: middle;\n",
              "    }\n",
              "\n",
              "    .dataframe tbody tr th {\n",
              "        vertical-align: top;\n",
              "    }\n",
              "\n",
              "    .dataframe thead th {\n",
              "        text-align: right;\n",
              "    }\n",
              "</style>\n",
              "<table border=\"1\" class=\"dataframe\">\n",
              "  <thead>\n",
              "    <tr style=\"text-align: right;\">\n",
              "      <th></th>\n",
              "      <th>survived</th>\n",
              "      <th>pclass</th>\n",
              "      <th>sex</th>\n",
              "      <th>age</th>\n",
              "      <th>sibsp</th>\n",
              "      <th>parch</th>\n",
              "      <th>fare</th>\n",
              "      <th>cabin_known</th>\n",
              "      <th>title</th>\n",
              "      <th>Point_C</th>\n",
              "      <th>Point_Q</th>\n",
              "      <th>Point_S</th>\n",
              "    </tr>\n",
              "  </thead>\n",
              "  <tbody>\n",
              "    <tr>\n",
              "      <th>0</th>\n",
              "      <td>0</td>\n",
              "      <td>3</td>\n",
              "      <td>1</td>\n",
              "      <td>22.0</td>\n",
              "      <td>1</td>\n",
              "      <td>0</td>\n",
              "      <td>7.2500</td>\n",
              "      <td>0</td>\n",
              "      <td>0</td>\n",
              "      <td>0</td>\n",
              "      <td>0</td>\n",
              "      <td>1</td>\n",
              "    </tr>\n",
              "    <tr>\n",
              "      <th>1</th>\n",
              "      <td>1</td>\n",
              "      <td>1</td>\n",
              "      <td>0</td>\n",
              "      <td>38.0</td>\n",
              "      <td>1</td>\n",
              "      <td>0</td>\n",
              "      <td>71.2833</td>\n",
              "      <td>1</td>\n",
              "      <td>0</td>\n",
              "      <td>1</td>\n",
              "      <td>0</td>\n",
              "      <td>0</td>\n",
              "    </tr>\n",
              "    <tr>\n",
              "      <th>2</th>\n",
              "      <td>1</td>\n",
              "      <td>3</td>\n",
              "      <td>0</td>\n",
              "      <td>26.0</td>\n",
              "      <td>0</td>\n",
              "      <td>0</td>\n",
              "      <td>7.9250</td>\n",
              "      <td>0</td>\n",
              "      <td>0</td>\n",
              "      <td>0</td>\n",
              "      <td>0</td>\n",
              "      <td>1</td>\n",
              "    </tr>\n",
              "    <tr>\n",
              "      <th>3</th>\n",
              "      <td>1</td>\n",
              "      <td>1</td>\n",
              "      <td>0</td>\n",
              "      <td>35.0</td>\n",
              "      <td>1</td>\n",
              "      <td>0</td>\n",
              "      <td>53.1000</td>\n",
              "      <td>1</td>\n",
              "      <td>0</td>\n",
              "      <td>0</td>\n",
              "      <td>0</td>\n",
              "      <td>1</td>\n",
              "    </tr>\n",
              "    <tr>\n",
              "      <th>4</th>\n",
              "      <td>0</td>\n",
              "      <td>3</td>\n",
              "      <td>1</td>\n",
              "      <td>35.0</td>\n",
              "      <td>0</td>\n",
              "      <td>0</td>\n",
              "      <td>8.0500</td>\n",
              "      <td>0</td>\n",
              "      <td>0</td>\n",
              "      <td>0</td>\n",
              "      <td>0</td>\n",
              "      <td>1</td>\n",
              "    </tr>\n",
              "  </tbody>\n",
              "</table>\n",
              "</div>"
            ],
            "text/plain": [
              "  survived pclass  sex   age  ...  title  Point_C  Point_Q  Point_S\n",
              "0        0      3    1  22.0  ...      0        0        0        1\n",
              "1        1      1    0  38.0  ...      0        1        0        0\n",
              "2        1      3    0  26.0  ...      0        0        0        1\n",
              "3        1      1    0  35.0  ...      0        0        0        1\n",
              "4        0      3    1  35.0  ...      0        0        0        1\n",
              "\n",
              "[5 rows x 12 columns]"
            ]
          },
          "metadata": {
            "tags": []
          },
          "execution_count": 316
        }
      ]
    },
    {
      "cell_type": "markdown",
      "metadata": {
        "id": "Z5pHPRwCzpaZ"
      },
      "source": [
        "> Next, we define the attributes and labels in our titanic dataset"
      ]
    },
    {
      "cell_type": "code",
      "metadata": {
        "id": "BsQTd0BnbdZi"
      },
      "source": [
        "# Define the attributes and labels in our titanic dataset \n",
        "X = titanic.iloc[:, 1:] #attributes\n",
        "y = titanic['survived'].values #label"
      ],
      "execution_count": 317,
      "outputs": []
    },
    {
      "cell_type": "markdown",
      "metadata": {
        "id": "YQxJsQy38uG2"
      },
      "source": [
        "### i) 80-20 train and test set split"
      ]
    },
    {
      "cell_type": "markdown",
      "metadata": {
        "id": "OYD8Gx1Z1URC"
      },
      "source": [
        "> Split the titanic dataset into train and test sets using the 80/20 split for the first instance"
      ]
    },
    {
      "cell_type": "code",
      "metadata": {
        "id": "zVnLuoEe0w6D"
      },
      "source": [
        "# Split the data in the 80/20 ratio\n",
        "from sklearn.model_selection import train_test_split\n",
        "X_train, X_test, y_train, y_test = train_test_split(X, y, test_size=0.2, random_state=42)"
      ],
      "execution_count": 318,
      "outputs": []
    },
    {
      "cell_type": "markdown",
      "metadata": {
        "id": "6RujwAON2RC4"
      },
      "source": [
        "> Perform feature scaling to ensure uniform evaluation of the features in our dataset"
      ]
    },
    {
      "cell_type": "code",
      "metadata": {
        "id": "W-73_IkN2bzA"
      },
      "source": [
        "# We will use the StandardScaler\n",
        "from sklearn.preprocessing import StandardScaler\n",
        "scaler = StandardScaler()\n",
        "scaler.fit(X_train)\n",
        "\n",
        "X_train = scaler.transform(X_train)\n",
        "X_test = scaler.transform(X_test)"
      ],
      "execution_count": 319,
      "outputs": []
    },
    {
      "cell_type": "markdown",
      "metadata": {
        "id": "bHUak3uN29Qk"
      },
      "source": [
        "> Initialize the kNeighborsClassifier for training and prediction"
      ]
    },
    {
      "cell_type": "code",
      "metadata": {
        "id": "MbXBTlKp3DLn",
        "colab": {
          "base_uri": "https://localhost:8080/"
        },
        "outputId": "30c09ee3-4770-455c-fcd4-3c3f342c3f55"
      },
      "source": [
        "from sklearn.neighbors import KNeighborsClassifier #class\n",
        "classifier = KNeighborsClassifier(n_neighbors=5) #initializing the class with the n_neighbors parameter set to 5\n",
        "classifier.fit(X_train, y_train)"
      ],
      "execution_count": 320,
      "outputs": [
        {
          "output_type": "execute_result",
          "data": {
            "text/plain": [
              "KNeighborsClassifier(algorithm='auto', leaf_size=30, metric='minkowski',\n",
              "                     metric_params=None, n_jobs=None, n_neighbors=5, p=2,\n",
              "                     weights='uniform')"
            ]
          },
          "metadata": {
            "tags": []
          },
          "execution_count": 320
        }
      ]
    },
    {
      "cell_type": "markdown",
      "metadata": {
        "id": "09C9KoRRO1lS"
      },
      "source": [
        "> Make predictions on the test data"
      ]
    },
    {
      "cell_type": "code",
      "metadata": {
        "id": "JsA4evB7O1BA"
      },
      "source": [
        "# Making predictions\n",
        "y_pred = classifier.predict(X_test)"
      ],
      "execution_count": 321,
      "outputs": []
    },
    {
      "cell_type": "markdown",
      "metadata": {
        "id": "szoWklgh4LHY"
      },
      "source": [
        "> Evaluating the algorithm using the following metrics:\n",
        "- Classification report (accuracy, precision, recall and f1 score)\n",
        "- Confusion matrix to help us identify the number of correct predictions"
      ]
    },
    {
      "cell_type": "code",
      "metadata": {
        "colab": {
          "base_uri": "https://localhost:8080/"
        },
        "id": "MdxKMxTd4EIt",
        "outputId": "9c75429a-d4b3-4f64-d448-68bd20203be3"
      },
      "source": [
        "# Import the metrics libraries\n",
        "from sklearn.metrics import classification_report, confusion_matrix\n",
        "print(confusion_matrix(y_test, y_pred))\n",
        "print(classification_report(y_test, y_pred))"
      ],
      "execution_count": 322,
      "outputs": [
        {
          "output_type": "stream",
          "text": [
            "[[89 16]\n",
            " [17 57]]\n",
            "              precision    recall  f1-score   support\n",
            "\n",
            "           0       0.84      0.85      0.84       105\n",
            "           1       0.78      0.77      0.78        74\n",
            "\n",
            "    accuracy                           0.82       179\n",
            "   macro avg       0.81      0.81      0.81       179\n",
            "weighted avg       0.82      0.82      0.82       179\n",
            "\n"
          ],
          "name": "stdout"
        }
      ]
    },
    {
      "cell_type": "markdown",
      "metadata": {
        "id": "XRZ40nm3zZfq"
      },
      "source": [
        "> To get the precise accuracy, we can use the accuracy score metric to evaluate the performance of our model"
      ]
    },
    {
      "cell_type": "code",
      "metadata": {
        "colab": {
          "base_uri": "https://localhost:8080/"
        },
        "id": "6qGDi2BCy-sQ",
        "outputId": "572399d3-2889-49f9-f3c4-7d8950a5148a"
      },
      "source": [
        "# Introduce the accuracy score from the metrics library\n",
        "from sklearn.metrics import accuracy_score\n",
        "print(\"The accuracy score of our kNN classifier is: \", accuracy_score(y_test, y_pred)*100)"
      ],
      "execution_count": 323,
      "outputs": [
        {
          "output_type": "stream",
          "text": [
            "The accuracy score of our kNN classifier is:  81.56424581005587\n"
          ],
          "name": "stdout"
        }
      ]
    },
    {
      "cell_type": "markdown",
      "metadata": {
        "id": "G_BMmzMp6aS9"
      },
      "source": [
        "> - From the accuarcy score, we can determine that the accuracy of our initial kNN classifier is 81.56% % as it made 146 out of 179 correct predictions as seen from the confusion matrix. \n",
        "- This was achieved when n_neighbors = 5 and the ratio of the train to test was 80/20. "
      ]
    },
    {
      "cell_type": "markdown",
      "metadata": {
        "id": "i4UwsOh87vSE"
      },
      "source": [
        "What happens when we use different data splits ? "
      ]
    },
    {
      "cell_type": "markdown",
      "metadata": {
        "id": "sJarpz9D8_Zw"
      },
      "source": [
        "### ii) 70-30 train and test set split"
      ]
    },
    {
      "cell_type": "markdown",
      "metadata": {
        "id": "mnwaxhry9KSj"
      },
      "source": [
        "> This time, split the dataset into a 70-30 split"
      ]
    },
    {
      "cell_type": "code",
      "metadata": {
        "id": "9dwwlWEw9Fn7"
      },
      "source": [
        "# Split the data using the 70/30 ratio\n",
        "from sklearn.model_selection import train_test_split\n",
        "X_train, X_test, y_train, y_test = train_test_split(X, y, test_size=0.3, random_state=42)"
      ],
      "execution_count": 324,
      "outputs": []
    },
    {
      "cell_type": "code",
      "metadata": {
        "id": "RsSoaqyL9avd"
      },
      "source": [
        "# We will use the StandardScaler\n",
        "from sklearn.preprocessing import StandardScaler\n",
        "scaler = StandardScaler()\n",
        "scaler.fit(X_train)\n",
        "\n",
        "X_train = scaler.transform(X_train)\n",
        "X_test = scaler.transform(X_test)"
      ],
      "execution_count": 325,
      "outputs": []
    },
    {
      "cell_type": "code",
      "metadata": {
        "id": "tnmtChdP9lSH",
        "colab": {
          "base_uri": "https://localhost:8080/"
        },
        "outputId": "1ce5b252-757c-4858-8175-147981928d6c"
      },
      "source": [
        "from sklearn.neighbors import KNeighborsClassifier #class\n",
        "classifier = KNeighborsClassifier(n_neighbors=5) #initializing the class with a parameter\n",
        "classifier.fit(X_train, y_train)"
      ],
      "execution_count": 326,
      "outputs": [
        {
          "output_type": "execute_result",
          "data": {
            "text/plain": [
              "KNeighborsClassifier(algorithm='auto', leaf_size=30, metric='minkowski',\n",
              "                     metric_params=None, n_jobs=None, n_neighbors=5, p=2,\n",
              "                     weights='uniform')"
            ]
          },
          "metadata": {
            "tags": []
          },
          "execution_count": 326
        }
      ]
    },
    {
      "cell_type": "code",
      "metadata": {
        "id": "jsVaVMscPhnz"
      },
      "source": [
        "# Making predictions on the test data\n",
        "y_pred = classifier.predict(X_test)"
      ],
      "execution_count": 327,
      "outputs": []
    },
    {
      "cell_type": "markdown",
      "metadata": {
        "id": "9zHdn29-Pz4k"
      },
      "source": [
        "> Evaluating the algorithm using the following metrics:\n",
        "\n",
        "- Classification report (accuracy, precision, recall and f1 score)\n",
        "- Confusion matrix to help us identify the number of correct predictions"
      ]
    },
    {
      "cell_type": "code",
      "metadata": {
        "colab": {
          "base_uri": "https://localhost:8080/"
        },
        "id": "l7Au6mfA9r2k",
        "outputId": "51ae5458-6475-40b3-8c84-4586bf4fc061"
      },
      "source": [
        "# Import the metrics libraries\n",
        "from sklearn.metrics import classification_report, confusion_matrix\n",
        "print(confusion_matrix(y_test, y_pred))\n",
        "print(classification_report(y_test, y_pred))"
      ],
      "execution_count": 328,
      "outputs": [
        {
          "output_type": "stream",
          "text": [
            "[[137  20]\n",
            " [ 33  78]]\n",
            "              precision    recall  f1-score   support\n",
            "\n",
            "           0       0.81      0.87      0.84       157\n",
            "           1       0.80      0.70      0.75       111\n",
            "\n",
            "    accuracy                           0.80       268\n",
            "   macro avg       0.80      0.79      0.79       268\n",
            "weighted avg       0.80      0.80      0.80       268\n",
            "\n"
          ],
          "name": "stdout"
        }
      ]
    },
    {
      "cell_type": "markdown",
      "metadata": {
        "id": "j4YbDChR0reU"
      },
      "source": [
        "> Evaluate the performance of the 70-30 split model using the accuracy score metric"
      ]
    },
    {
      "cell_type": "code",
      "metadata": {
        "colab": {
          "base_uri": "https://localhost:8080/"
        },
        "id": "hwwx0tuC0nJf",
        "outputId": "3f4ddb9c-0617-49a7-8506-14ee8f5d48d3"
      },
      "source": [
        "from sklearn.metrics import accuracy_score\n",
        "print(\"The accuracy score for 70-30 split: \", accuracy_score(y_test, y_pred)*100)"
      ],
      "execution_count": 329,
      "outputs": [
        {
          "output_type": "stream",
          "text": [
            "The accuracy score for 70-30 split:  80.22388059701493\n"
          ],
          "name": "stdout"
        }
      ]
    },
    {
      "cell_type": "markdown",
      "metadata": {
        "id": "EgUbxxRg9zU-"
      },
      "source": [
        "> When we use the 70-30 split, we notice that the accuracy score reduces and in this case is 80.22% as the model made 215 out of 268 correct predictions as seen from the confusion matrix. "
      ]
    },
    {
      "cell_type": "markdown",
      "metadata": {
        "id": "fJp3zpTF-fi4"
      },
      "source": [
        "### iii) 60-40 train and test set split"
      ]
    },
    {
      "cell_type": "markdown",
      "metadata": {
        "id": "-fTTSwrFQAXP"
      },
      "source": [
        "> For this instance, we will use the 60-40 train-test split and evaluate the performance of the model"
      ]
    },
    {
      "cell_type": "code",
      "metadata": {
        "id": "YJhKStg_-j1I"
      },
      "source": [
        "# Split the data using the 60/40 ratio\n",
        "from sklearn.model_selection import train_test_split\n",
        "X_train, X_test, y_train, y_test = train_test_split(X, y, test_size=0.4, random_state=42)"
      ],
      "execution_count": 330,
      "outputs": []
    },
    {
      "cell_type": "code",
      "metadata": {
        "id": "trZeZEk4-rqG"
      },
      "source": [
        "# We will use the StandardScaler\n",
        "from sklearn.preprocessing import StandardScaler\n",
        "scaler = StandardScaler()\n",
        "scaler.fit(X_train)\n",
        "\n",
        "X_train = scaler.transform(X_train)\n",
        "X_test = scaler.transform(X_test)"
      ],
      "execution_count": 331,
      "outputs": []
    },
    {
      "cell_type": "code",
      "metadata": {
        "id": "zwGVPXEs-vnM",
        "colab": {
          "base_uri": "https://localhost:8080/"
        },
        "outputId": "b689dcfe-fb25-4e49-f260-ebf546085c71"
      },
      "source": [
        "from sklearn.neighbors import KNeighborsClassifier #class\n",
        "classifier = KNeighborsClassifier(n_neighbors=5) #initializing the class with a parameter\n",
        "classifier.fit(X_train, y_train)"
      ],
      "execution_count": 332,
      "outputs": [
        {
          "output_type": "execute_result",
          "data": {
            "text/plain": [
              "KNeighborsClassifier(algorithm='auto', leaf_size=30, metric='minkowski',\n",
              "                     metric_params=None, n_jobs=None, n_neighbors=5, p=2,\n",
              "                     weights='uniform')"
            ]
          },
          "metadata": {
            "tags": []
          },
          "execution_count": 332
        }
      ]
    },
    {
      "cell_type": "code",
      "metadata": {
        "id": "_qf4T-_HQNEI"
      },
      "source": [
        "# Making predictions on the test data\n",
        "y_pred = classifier.predict(X_test)"
      ],
      "execution_count": 333,
      "outputs": []
    },
    {
      "cell_type": "markdown",
      "metadata": {
        "id": "6f8Xjhk_QUtr"
      },
      "source": [
        "> Evaluating the algorithm using the following metrics:\n",
        "\n",
        "- Classification report (accuracy, precision, recall and f1 score)\n",
        "- Confusion matrix to help us identify the number of correct predictions"
      ]
    },
    {
      "cell_type": "code",
      "metadata": {
        "colab": {
          "base_uri": "https://localhost:8080/"
        },
        "id": "qnkxdhte-0lj",
        "outputId": "97c8d6d1-eeb2-484e-c620-71a36aeba226"
      },
      "source": [
        "# Import the metrics libraries\n",
        "from sklearn.metrics import classification_report, confusion_matrix\n",
        "print(confusion_matrix(y_test, y_pred))\n",
        "print(classification_report(y_test, y_pred))"
      ],
      "execution_count": 334,
      "outputs": [
        {
          "output_type": "stream",
          "text": [
            "[[188  28]\n",
            " [ 42  99]]\n",
            "              precision    recall  f1-score   support\n",
            "\n",
            "           0       0.82      0.87      0.84       216\n",
            "           1       0.78      0.70      0.74       141\n",
            "\n",
            "    accuracy                           0.80       357\n",
            "   macro avg       0.80      0.79      0.79       357\n",
            "weighted avg       0.80      0.80      0.80       357\n",
            "\n"
          ],
          "name": "stdout"
        }
      ]
    },
    {
      "cell_type": "markdown",
      "metadata": {
        "id": "f3twBzHL1fLA"
      },
      "source": [
        "> Evaluate the performance of the 60-40 split model using the accuracy score"
      ]
    },
    {
      "cell_type": "code",
      "metadata": {
        "colab": {
          "base_uri": "https://localhost:8080/"
        },
        "id": "XPm11Ig-1f6k",
        "outputId": "59e432a9-88f6-45e4-9cc4-e0c59029cc7d"
      },
      "source": [
        "# Import accuracy score from the metrics library\n",
        "from sklearn.metrics import accuracy_score\n",
        "print(\"The accuarcy score of the 60-40 split model is \", accuracy_score(y_test, y_pred)*100)"
      ],
      "execution_count": 335,
      "outputs": [
        {
          "output_type": "stream",
          "text": [
            "The accuarcy score of the 60-40 split model is  80.3921568627451\n"
          ],
          "name": "stdout"
        }
      ]
    },
    {
      "cell_type": "markdown",
      "metadata": {
        "id": "ucHNQ-Xg-9Yi"
      },
      "source": [
        "> In the instance of a 60-40 split, the accuracy score remains to be 80% as the model made 287 out of 357 correct predictions as seen from the confusion matrix."
      ]
    },
    {
      "cell_type": "markdown",
      "metadata": {
        "id": "cKF9zArzQz7P"
      },
      "source": [
        "## Findings"
      ]
    },
    {
      "cell_type": "markdown",
      "metadata": {
        "id": "8F6aky9ZQ5EN"
      },
      "source": [
        "> - The highest accuracy score of 81.56% was achieved with the 80-20 train-test split when the n_neighbors parameter of the kNN Classifier model was set to 5.\n",
        "- Reducing the train-test split ratio resulted to lower accuracy as compared to the initial 80-20 split model."
      ]
    },
    {
      "cell_type": "markdown",
      "metadata": {
        "id": "PUUQ5dObBHPH"
      },
      "source": [
        "# 8.0 Challenging the Solution"
      ]
    },
    {
      "cell_type": "markdown",
      "metadata": {
        "id": "Jsg6aNZdBMh3"
      },
      "source": [
        "- We can challenge our solution by implementing dimensionality reduction techniques such as LDA and PCA as a way of optimization and compare the performances of our models\n",
        "- We can also challenge our solution by using the Grid Search to find the best parameters that would give us the highest accuracy score while working with this dataset"
      ]
    },
    {
      "cell_type": "markdown",
      "metadata": {
        "id": "kOd7-kB5BzP9"
      },
      "source": [
        "## a) Linear Discriminant Analysis"
      ]
    },
    {
      "cell_type": "markdown",
      "metadata": {
        "id": "dnY3vG-aLxow"
      },
      "source": [
        "> Define the dependent and independent variables"
      ]
    },
    {
      "cell_type": "code",
      "metadata": {
        "id": "vyAqEkXlIdUJ"
      },
      "source": [
        "# Define the attributes and labels in our titanic dataset \n",
        "X = titanic.iloc[:, 1:] #attributes\n",
        "y = titanic['survived'].values #label"
      ],
      "execution_count": 336,
      "outputs": []
    },
    {
      "cell_type": "markdown",
      "metadata": {
        "id": "tLwZnsQELmpG"
      },
      "source": [
        "> We will use the 80-20 split to compare the performance of our classifiers after performing dimensionality reduction"
      ]
    },
    {
      "cell_type": "code",
      "metadata": {
        "id": "zYMhu37_I1Oj"
      },
      "source": [
        "# Split the data in the 80/20 ratio\n",
        "from sklearn.model_selection import train_test_split\n",
        "X_train, X_test, y_train, y_test = train_test_split(X, y, test_size=0.2, random_state=42)"
      ],
      "execution_count": 337,
      "outputs": []
    },
    {
      "cell_type": "markdown",
      "metadata": {
        "id": "rvhyVSpfLdyE"
      },
      "source": [
        "> Perform feature scaling for LDA"
      ]
    },
    {
      "cell_type": "code",
      "metadata": {
        "id": "BH0tGkcvJNAA"
      },
      "source": [
        "# We will use the StandardScaler for LDA \n",
        "from sklearn.preprocessing import StandardScaler\n",
        "scaler = StandardScaler()\n",
        "scaler.fit(X_train)\n",
        "\n",
        "X_train = scaler.transform(X_train)\n",
        "X_test = scaler.transform(X_test)"
      ],
      "execution_count": 338,
      "outputs": []
    },
    {
      "cell_type": "markdown",
      "metadata": {
        "id": "tHhze3XQLIRL"
      },
      "source": [
        "> Import the LDA class from the sklearn library and specify the number of components to 1 so as to evaluate the performance of our classifier with a single linear discriminant"
      ]
    },
    {
      "cell_type": "code",
      "metadata": {
        "id": "lwEDLx4MFyG9"
      },
      "source": [
        "# Import the LDA class from the sklearn library\n",
        "from sklearn.discriminant_analysis import LinearDiscriminantAnalysis as LDA\n",
        "\n",
        "# Specify the n_components as 1 so as to check the performance of our classifier with a single linear discriminant\n",
        "lda = LDA(n_components=1)\n",
        "X_train = lda.fit_transform(X_train, y_train)\n",
        "X_test = lda.transform(X_test)"
      ],
      "execution_count": 339,
      "outputs": []
    },
    {
      "cell_type": "markdown",
      "metadata": {
        "id": "eaABTqXtL6e1"
      },
      "source": [
        "> Introduce our kNN classifier and fit the model with the train data"
      ]
    },
    {
      "cell_type": "code",
      "metadata": {
        "id": "YX6Qw3TyJDkf",
        "colab": {
          "base_uri": "https://localhost:8080/"
        },
        "outputId": "e7d6afe3-eb30-49c7-bae9-84f7f36c77c0"
      },
      "source": [
        "from sklearn.neighbors import KNeighborsClassifier #class\n",
        "classifier = KNeighborsClassifier(n_neighbors=5) #initializing the class with a parameter\n",
        "classifier.fit(X_train, y_train)"
      ],
      "execution_count": 340,
      "outputs": [
        {
          "output_type": "execute_result",
          "data": {
            "text/plain": [
              "KNeighborsClassifier(algorithm='auto', leaf_size=30, metric='minkowski',\n",
              "                     metric_params=None, n_jobs=None, n_neighbors=5, p=2,\n",
              "                     weights='uniform')"
            ]
          },
          "metadata": {
            "tags": []
          },
          "execution_count": 340
        }
      ]
    },
    {
      "cell_type": "markdown",
      "metadata": {
        "id": "1UP5ZQboScS3"
      },
      "source": [
        "> Make predictions on the test data"
      ]
    },
    {
      "cell_type": "code",
      "metadata": {
        "id": "OYxMLkr2SfYd"
      },
      "source": [
        "# Making predictions on the test data\n",
        "y_pred = classifier.predict(X_test)"
      ],
      "execution_count": 341,
      "outputs": []
    },
    {
      "cell_type": "markdown",
      "metadata": {
        "id": "NkwqLjpcMNL5"
      },
      "source": [
        "> Evaluate the performance of our kNN classifier after performing Linear Discriminant Analysis"
      ]
    },
    {
      "cell_type": "code",
      "metadata": {
        "colab": {
          "base_uri": "https://localhost:8080/"
        },
        "id": "2qvM1p3SJatB",
        "outputId": "92b48aec-5d33-4524-e565-96fe82a12c1e"
      },
      "source": [
        "# Import the metrics libraries\n",
        "from sklearn.metrics import classification_report, confusion_matrix\n",
        "print(confusion_matrix(y_test, y_pred))\n",
        "print(classification_report(y_test, y_pred))"
      ],
      "execution_count": 342,
      "outputs": [
        {
          "output_type": "stream",
          "text": [
            "[[89 16]\n",
            " [20 54]]\n",
            "              precision    recall  f1-score   support\n",
            "\n",
            "           0       0.82      0.85      0.83       105\n",
            "           1       0.77      0.73      0.75        74\n",
            "\n",
            "    accuracy                           0.80       179\n",
            "   macro avg       0.79      0.79      0.79       179\n",
            "weighted avg       0.80      0.80      0.80       179\n",
            "\n"
          ],
          "name": "stdout"
        }
      ]
    },
    {
      "cell_type": "markdown",
      "metadata": {
        "id": "ukOjWtnWSooI"
      },
      "source": [
        "> Evaluate the performance using an accuracy score metric"
      ]
    },
    {
      "cell_type": "code",
      "metadata": {
        "colab": {
          "base_uri": "https://localhost:8080/"
        },
        "id": "h5C9L5UESwVO",
        "outputId": "76dcb086-ede8-44c8-b18c-ce319084fdf8"
      },
      "source": [
        "# Import the accuracy score from the sklearn metrics library \n",
        "from sklearn.metrics import accuracy_score\n",
        "print(\"The accuracy score of our new LDA performed model is: \", accuracy_score(y_test, y_pred))"
      ],
      "execution_count": 343,
      "outputs": [
        {
          "output_type": "stream",
          "text": [
            "The accuracy score of our new LDA performed model is:  0.7988826815642458\n"
          ],
          "name": "stdout"
        }
      ]
    },
    {
      "cell_type": "markdown",
      "metadata": {
        "id": "-KqwvBIFKnW8"
      },
      "source": [
        "> From the classification report, we can determine that the accuracy of our kNN classifier after using the LDA dimensionality reduction technique reduced to 79.88% as compared to the initial 81.56% accuracy score considering it made 143 out of 179 correct predictions as seen from the confusion matrix. This was also achieved when using the 80-20 train-test split with the n_neighbors parameter still set as 5"
      ]
    },
    {
      "cell_type": "markdown",
      "metadata": {
        "id": "neTMLCzYNBJU"
      },
      "source": [
        "### Findings"
      ]
    },
    {
      "cell_type": "markdown",
      "metadata": {
        "id": "yKIyvQioNFUI"
      },
      "source": [
        "> After performing the LDA dimensionality reduction technique on our data when the train-test split is 80-20, we realize that the accuracy score reduces from 82% to 80% which means that for us to achieve a higher prediction accuracy score, we need to include all features of our dataset rather than use a single linear discriminant. "
      ]
    },
    {
      "cell_type": "markdown",
      "metadata": {
        "id": "iCirPGU7uVOa"
      },
      "source": [
        "## b) Principal Component Analysis"
      ]
    },
    {
      "cell_type": "markdown",
      "metadata": {
        "id": "Oyt0Ag5Uucxl"
      },
      "source": [
        "After further research, we realize that PCA is more suited for datasets which have many outliers as is so with our Titanic dataset. Therefore we can go ahead and implement then compare its performance to our previous models. "
      ]
    },
    {
      "cell_type": "markdown",
      "metadata": {
        "id": "7QK6pnKaT11S"
      },
      "source": [
        "> Define the dependent and independent variables"
      ]
    },
    {
      "cell_type": "code",
      "metadata": {
        "id": "9gmWJ7yZu3St"
      },
      "source": [
        "# Define the attributes and labels in our titanic dataset \n",
        "X = titanic.iloc[:, 1:] #attributes\n",
        "y = titanic['survived'].values #label"
      ],
      "execution_count": 344,
      "outputs": []
    },
    {
      "cell_type": "markdown",
      "metadata": {
        "id": "OkRjL1gvT6Kx"
      },
      "source": [
        "> We will use the 80-20 split to compare the performance of our classifiers after performing dimensionality reduction"
      ]
    },
    {
      "cell_type": "code",
      "metadata": {
        "id": "8alwQaz9u7wV"
      },
      "source": [
        "# Split the data in the 80/20 ratio\n",
        "from sklearn.model_selection import train_test_split\n",
        "X_train, X_test, y_train, y_test = train_test_split(X, y, test_size=0.2, random_state=42)"
      ],
      "execution_count": 345,
      "outputs": []
    },
    {
      "cell_type": "markdown",
      "metadata": {
        "id": "eiKRPJcaUA7Q"
      },
      "source": [
        "> Perform feature scaling for PCA"
      ]
    },
    {
      "cell_type": "code",
      "metadata": {
        "id": "stHrVLKivAJe"
      },
      "source": [
        "# We will use the StandardScaler for PCA\n",
        "from sklearn.preprocessing import StandardScaler\n",
        "scaler = StandardScaler()\n",
        "scaler.fit(X_train)\n",
        "\n",
        "X_train = scaler.transform(X_train)\n",
        "X_test = scaler.transform(X_test)"
      ],
      "execution_count": 346,
      "outputs": []
    },
    {
      "cell_type": "markdown",
      "metadata": {
        "id": "qQOiopV2UIdP"
      },
      "source": [
        "> Import the PCA class from the sklearn decomposition library and specify the number of components so as to evaluate the performance of our classifier with different numbers of principal components"
      ]
    },
    {
      "cell_type": "code",
      "metadata": {
        "id": "-WGD3FiSvFxr"
      },
      "source": [
        "# Import the PCA class from the sklearn library\n",
        "from sklearn.decomposition import PCA\n",
        "\n",
        "# Specify the n_components as 1 so as to check the performance of our classifier with a single linear discriminant\n",
        "pca = PCA(n_components=4) # 1 - 72%, 2 - 77%, 3 - 79%, 4 - 82% \n",
        "X_train = pca.fit_transform(X_train, y_train)\n",
        "X_test = pca.transform(X_test)"
      ],
      "execution_count": 347,
      "outputs": []
    },
    {
      "cell_type": "markdown",
      "metadata": {
        "id": "6l5E6luxU8CS"
      },
      "source": [
        "> Introduce our kNN classifier and fit the model with the train data"
      ]
    },
    {
      "cell_type": "code",
      "metadata": {
        "colab": {
          "base_uri": "https://localhost:8080/"
        },
        "id": "z8LFHIUCxhv5",
        "outputId": "43c1cfcc-1e9e-47ec-c271-1c0d6b67ad78"
      },
      "source": [
        "from sklearn.neighbors import KNeighborsClassifier #class\n",
        "classifier = KNeighborsClassifier(n_neighbors=5) #initializing the class with a parameter\n",
        "classifier.fit(X_train, y_train)"
      ],
      "execution_count": 348,
      "outputs": [
        {
          "output_type": "execute_result",
          "data": {
            "text/plain": [
              "KNeighborsClassifier(algorithm='auto', leaf_size=30, metric='minkowski',\n",
              "                     metric_params=None, n_jobs=None, n_neighbors=5, p=2,\n",
              "                     weights='uniform')"
            ]
          },
          "metadata": {
            "tags": []
          },
          "execution_count": 348
        }
      ]
    },
    {
      "cell_type": "markdown",
      "metadata": {
        "id": "oWHvxKKvVHZc"
      },
      "source": [
        "> Making predictions on the test data"
      ]
    },
    {
      "cell_type": "code",
      "metadata": {
        "id": "1yhLqyMOVUXC"
      },
      "source": [
        "# Making predictions on the test data\n",
        "y_pred = classifier.predict(X_test)"
      ],
      "execution_count": 349,
      "outputs": []
    },
    {
      "cell_type": "markdown",
      "metadata": {
        "id": "y9bNErKRVihl"
      },
      "source": [
        "> Evaluate the performance of our kNN classifier after performing Principal Component Analysis"
      ]
    },
    {
      "cell_type": "code",
      "metadata": {
        "colab": {
          "base_uri": "https://localhost:8080/"
        },
        "id": "tGzuXMUzxnWs",
        "outputId": "cf5d02d9-6f4b-4bbc-8b04-6ffe635c854b"
      },
      "source": [
        "# Import the metrics libraries\n",
        "from sklearn.metrics import classification_report, confusion_matrix\n",
        "print(confusion_matrix(y_test, y_pred))\n",
        "print(classification_report(y_test, y_pred))"
      ],
      "execution_count": 350,
      "outputs": [
        {
          "output_type": "stream",
          "text": [
            "[[89 16]\n",
            " [17 57]]\n",
            "              precision    recall  f1-score   support\n",
            "\n",
            "           0       0.84      0.85      0.84       105\n",
            "           1       0.78      0.77      0.78        74\n",
            "\n",
            "    accuracy                           0.82       179\n",
            "   macro avg       0.81      0.81      0.81       179\n",
            "weighted avg       0.82      0.82      0.82       179\n",
            "\n"
          ],
          "name": "stdout"
        }
      ]
    },
    {
      "cell_type": "markdown",
      "metadata": {
        "id": "GtHDwSr2Vv-R"
      },
      "source": [
        "> Evaluate the performance of our classifier using the accuracy score metric"
      ]
    },
    {
      "cell_type": "code",
      "metadata": {
        "colab": {
          "base_uri": "https://localhost:8080/"
        },
        "id": "U2iO23poycMn",
        "outputId": "3bd36590-96a5-4be0-dcc1-3ba5b5b22638"
      },
      "source": [
        "# Import accuracy score from the metrics library\n",
        "from sklearn.metrics import accuracy_score\n",
        "print(accuracy_score(y_test, y_pred))"
      ],
      "execution_count": 351,
      "outputs": [
        {
          "output_type": "stream",
          "text": [
            "0.8156424581005587\n"
          ],
          "name": "stdout"
        }
      ]
    },
    {
      "cell_type": "markdown",
      "metadata": {
        "id": "rFatEheZapJO"
      },
      "source": [
        "### Findings "
      ]
    },
    {
      "cell_type": "markdown",
      "metadata": {
        "id": "tv8kixpdV_qU"
      },
      "source": [
        "> After trying out different numbers of principal components, we achieved an accuracy score of 81.56% which is similar to the accuracy score of the initial 80-20 split kNN classifier model after setting the number of components to 4. "
      ]
    },
    {
      "cell_type": "markdown",
      "metadata": {
        "id": "sTdpSq0vQ43Y"
      },
      "source": [
        "## c) GridSearch for the best parameters"
      ]
    },
    {
      "cell_type": "markdown",
      "metadata": {
        "id": "joIzE9IvSetD"
      },
      "source": [
        "> First we can find the cross validation score so as to estimate the best accuracy score after using 10 folds"
      ]
    },
    {
      "cell_type": "code",
      "metadata": {
        "id": "j1huUgmzazJR"
      },
      "source": [
        "# Define the attributes and labels in our titanic dataset \n",
        "X = titanic.iloc[:, 1:] #attributes\n",
        "y = titanic['survived'].values #label"
      ],
      "execution_count": 354,
      "outputs": []
    },
    {
      "cell_type": "code",
      "metadata": {
        "id": "jq2yy4lvay2Z"
      },
      "source": [
        "# Split the data in the 80/20 ratio\n",
        "from sklearn.model_selection import train_test_split\n",
        "X_train, X_test, y_train, y_test = train_test_split(X, y, test_size=0.2, random_state=42)"
      ],
      "execution_count": 355,
      "outputs": []
    },
    {
      "cell_type": "code",
      "metadata": {
        "id": "PNEwyc2-a-9U"
      },
      "source": [
        "# We will use the StandardScaler for cross validation\n",
        "from sklearn.preprocessing import StandardScaler\n",
        "scaler = StandardScaler()\n",
        "scaler.fit(X_train)\n",
        "\n",
        "X_train = scaler.transform(X_train)\n",
        "X_test = scaler.transform(X_test)"
      ],
      "execution_count": 356,
      "outputs": []
    },
    {
      "cell_type": "code",
      "metadata": {
        "colab": {
          "base_uri": "https://localhost:8080/"
        },
        "id": "ll-4HZeoQ98X",
        "outputId": "870651a4-abe3-477d-e3cd-b8ca166feff1"
      },
      "source": [
        "# Import the cross validation score\n",
        "from sklearn.model_selection import cross_val_score\n",
        "accuracies = cross_val_score(estimator = classifier, X = X_train, y = y_train, cv = 10)\n",
        "print(\"Accuracy: {:.2f} %\".format(accuracies.mean()*100))"
      ],
      "execution_count": 357,
      "outputs": [
        {
          "output_type": "stream",
          "text": [
            "Accuracy: 80.48 %\n"
          ],
          "name": "stdout"
        }
      ]
    },
    {
      "cell_type": "markdown",
      "metadata": {
        "id": "6IZSdXznWVl3"
      },
      "source": [
        "Using cross validation, we can determine that the best accuracy that can be achieved using 10 test folds is 80.48%  "
      ]
    },
    {
      "cell_type": "markdown",
      "metadata": {
        "id": "LZ_6G-9tS95W"
      },
      "source": [
        "> Applying Grid Search to find the best model and the best parameters to give us the highest accuracy score."
      ]
    },
    {
      "cell_type": "code",
      "metadata": {
        "id": "QMYr7Ch_bTTi"
      },
      "source": [
        "# Define the attributes and labels in our titanic dataset \n",
        "X = titanic.iloc[:, 1:] #attributes\n",
        "y = titanic['survived'].values #label"
      ],
      "execution_count": 360,
      "outputs": []
    },
    {
      "cell_type": "code",
      "metadata": {
        "id": "MIJ5cFQhbTOb"
      },
      "source": [
        "# Split the data in the 80/20 ratio\n",
        "from sklearn.model_selection import train_test_split\n",
        "X_train, X_test, y_train, y_test = train_test_split(X, y, test_size=0.2, random_state=42)"
      ],
      "execution_count": 361,
      "outputs": []
    },
    {
      "cell_type": "code",
      "metadata": {
        "id": "UKRqhNLMbTKG"
      },
      "source": [
        "# We will use the StandardScaler for the GridSearch\n",
        "from sklearn.preprocessing import StandardScaler\n",
        "scaler = StandardScaler()\n",
        "scaler.fit(X_train)\n",
        "\n",
        "X_train = scaler.transform(X_train)\n",
        "X_test = scaler.transform(X_test)"
      ],
      "execution_count": 362,
      "outputs": []
    },
    {
      "cell_type": "code",
      "metadata": {
        "colab": {
          "base_uri": "https://localhost:8080/"
        },
        "id": "wGDkc1wMTUnY",
        "outputId": "0e9d9650-bc6c-49f0-991b-ed2b01945dd5"
      },
      "source": [
        "# Applying Grid Search to find the best model and the best parameters\n",
        "# Import the GridSearchCV class from the library\n",
        "from sklearn.model_selection import GridSearchCV\n",
        " \n",
        "# Create a list of parameters that our GridSearch object will analyze, select and produce the best accuracy score with \n",
        "parameters = [{'n_neighbors': [1,2,3,4,5,6,7,8,9,10], 'weights': ['uniform'], 'algorithm' : ['auto', 'ball_tree', 'kd_tree', 'brute'], 'metric':['minkowski', 'euclidean', 'manhattan', 'chebyshev']},\n",
        "              {'n_neighbors': [1,2,3,4,5,6,7,8,9,10], 'weights': ['distance'], 'algorithm' : ['auto', 'ball_tree', 'kd_tree', 'brute'], 'metric':['minkowski', 'euclidean', 'manhattan', 'chebyshev']}]\n",
        "# Finding the accuracy on the 10 test folds\n",
        "# The n_jobs is to set all your process to run the grid search by using the whole computing power\n",
        "grid_search = GridSearchCV(estimator=classifier, param_grid=parameters, scoring='accuracy', cv = 10, n_jobs = -1)\n",
        "\n",
        "# We then fit the grid search object to our train data\n",
        "grid_search.fit(X_train, y_train)\n",
        "\n",
        "# Best accuracy score \n",
        "best_accuracy = grid_search.best_score_\n",
        "\n",
        "# Best parameters that will help us achieve the best accuracy \n",
        "best_parameters = grid_search.best_params_\n",
        "\n",
        "print(\"Accuracy after using 10 test folds to find the best accuracy and best parameters\")\n",
        "print(\"Best Accuracy: {:.2f} %\".format(best_accuracy*100))\n",
        "print(\"Best Parameters:\", best_parameters)"
      ],
      "execution_count": 363,
      "outputs": [
        {
          "output_type": "stream",
          "text": [
            "Accuracy after using 10 test folds to find the best accuracy and best parameters\n",
            "Best Accuracy: 82.03 %\n",
            "Best Parameters: {'algorithm': 'auto', 'metric': 'minkowski', 'n_neighbors': 10, 'weights': 'uniform'}\n"
          ],
          "name": "stdout"
        }
      ]
    },
    {
      "cell_type": "markdown",
      "metadata": {
        "id": "tEUIyHuLcVuW"
      },
      "source": [
        "### Findings"
      ]
    },
    {
      "cell_type": "markdown",
      "metadata": {
        "id": "a4ihrpL8YSIr"
      },
      "source": [
        "> - This is very interesting since our GridSearch model has given us 82.03% as its best accuracy score. \n",
        "- The GridSearch model also gave us its best parameters as ; n_neighbors = 10 and the distance metric = minkowski. "
      ]
    },
    {
      "cell_type": "markdown",
      "metadata": {
        "id": "QFkQs2oqOv0M"
      },
      "source": [
        "# 9.0 Recommendations"
      ]
    },
    {
      "cell_type": "markdown",
      "metadata": {
        "id": "1UqHVFcdOzay"
      },
      "source": [
        "> For us to achieve the highest prediction accuracy score of 82.03% as predicted by our GridSearch model, I would recommend that:\n",
        "- We split the data using 80-20 ratio for the train and test sets \n",
        "- Set the number of neighbors(n_neighbors) to 10 as a parameter in our kNN classifier\n",
        "- Set the distance metric to minkowski as a parameter in our kNN classifier"
      ]
    },
    {
      "cell_type": "markdown",
      "metadata": {
        "id": "SL7XTSGze5MU"
      },
      "source": [
        "# 10.0 Follow up questions"
      ]
    },
    {
      "cell_type": "markdown",
      "metadata": {
        "id": "70a1kejre8F0"
      },
      "source": [
        "## a) Did we have the right data? "
      ]
    },
    {
      "cell_type": "markdown",
      "metadata": {
        "id": "6914F4MOfALC"
      },
      "source": [
        "> I believe we had the right data because passenger data such as the age, passenger class and the gender would be essential in helping us predict whether a passenger survived or not in our Titanic dataset. "
      ]
    },
    {
      "cell_type": "markdown",
      "metadata": {
        "id": "4Yu1n32Hfbs2"
      },
      "source": [
        "## b) Do we need other data to answer our question?"
      ]
    },
    {
      "cell_type": "markdown",
      "metadata": {
        "id": "4M8qiphofkoW"
      },
      "source": [
        "> I believe the data we had sufficient to help us predict whether a passenger survived or not in our dataset. "
      ]
    },
    {
      "cell_type": "markdown",
      "metadata": {
        "id": "et9--B80fyzS"
      },
      "source": [
        "## c) Did we have the right question?"
      ]
    },
    {
      "cell_type": "markdown",
      "metadata": {
        "id": "2yYJfTNYf4Cb"
      },
      "source": [
        "> Yes we did considering in our Titanic dataset, we already had the output class label 'Survived' which would be our target variable in modelling while the rest of the columns would actually be our feature variables and assist us in making predictions. "
      ]
    },
    {
      "cell_type": "markdown",
      "metadata": {
        "id": "v3YU5PTF7qnu"
      },
      "source": [
        "> "
      ]
    }
  ]
}